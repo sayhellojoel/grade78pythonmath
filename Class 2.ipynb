{
  "nbformat": 4,
  "nbformat_minor": 0,
  "metadata": {
    "colab": {
      "provenance": []
    },
    "kernelspec": {
      "name": "python3",
      "display_name": "Python 3"
    },
    "language_info": {
      "name": "python"
    }
  },
  "cells": [
    {
      "cell_type": "markdown",
      "source": [
        "# Class 2: Intro to Simple Models"
      ],
      "metadata": {
        "id": "5EQmJ9dxw_9o"
      }
    },
    {
      "cell_type": "markdown",
      "source": [
        "## 1) Simplest Model\n",
        "The simplest model is just using an average for the future.  \n",
        "In math, an average is called a \"mean\"."
      ],
      "metadata": {
        "id": "n7b6U4GqzKj6"
      }
    },
    {
      "cell_type": "code",
      "source": [
        "import numpy as np\n",
        "import pandas as pd\n",
        "import matplotlib.pyplot as plt"
      ],
      "metadata": {
        "id": "N3Uqc_mPzaNr"
      },
      "execution_count": null,
      "outputs": []
    },
    {
      "cell_type": "code",
      "source": [
        "# our data for the grades a student got in their last 10 classes\n",
        "grades = [85, 90, 75, 80, 65, 70, 85, 95, 60, 85]\n",
        "grades = np.array(grades)"
      ],
      "metadata": {
        "id": "2l8bjfzbzwhV"
      },
      "execution_count": null,
      "outputs": []
    },
    {
      "cell_type": "code",
      "source": [
        "# calculate the average grade\n",
        "np.mean(grades)"
      ],
      "metadata": {
        "id": "wgg2qEDyzOLw"
      },
      "execution_count": null,
      "outputs": []
    },
    {
      "cell_type": "markdown",
      "source": [
        "Now we can make predictions for what grade a student might get in their next class. It's a very simple model.  \n",
        "How could we make it better?"
      ],
      "metadata": {
        "id": "oDEDoLWd15rk"
      }
    },
    {
      "cell_type": "code",
      "source": [
        "# here are the types of classes\n",
        "class_type = [2, 2, 1, 1, 1, 1, 2, 2, 1, 2]\n",
        "class_type = np.array(class_type)"
      ],
      "metadata": {
        "id": "ClOrTBukzOP2"
      },
      "execution_count": null,
      "outputs": []
    },
    {
      "cell_type": "code",
      "source": [
        "# now let's filter on class type 2\n",
        "grades_for_class_2 = grades[class_type == 2]"
      ],
      "metadata": {
        "id": "4_j3ZpfM4Vq1"
      },
      "execution_count": null,
      "outputs": []
    },
    {
      "cell_type": "code",
      "source": [
        "# now calculate the average\n",
        "np.mean(grades_for_class_2)"
      ],
      "metadata": {
        "id": "m2qsug5D4VtE"
      },
      "execution_count": null,
      "outputs": []
    },
    {
      "cell_type": "markdown",
      "source": [
        "## 2) Linear Model with Our Data"
      ],
      "metadata": {
        "id": "kZSiYc1tw8Qr"
      }
    },
    {
      "cell_type": "code",
      "source": [
        "# read in our dataset\n",
        "filename = 'https://raw.githubusercontent.com/sayhellojoel/grade78pythonmath/main/Data/kids%20anonymous%20data.csv'\n",
        "df = pd.read_csv(filename)"
      ],
      "metadata": {
        "id": "wF2IX-1bOmPe"
      },
      "execution_count": null,
      "outputs": []
    },
    {
      "cell_type": "code",
      "source": [
        "# show the first 5 lines from our dataset\n",
        "df.head(5)"
      ],
      "metadata": {
        "id": "Wa5AK6YHPRk1"
      },
      "execution_count": null,
      "outputs": []
    },
    {
      "cell_type": "markdown",
      "source": [
        "### Scatterplot\n",
        "It's always a good idea to look at your data before trying anything else.  \n",
        "Here, we can visually see the trend in the data.  "
      ],
      "metadata": {
        "id": "UB3NVN0U6Zfq"
      }
    },
    {
      "cell_type": "code",
      "source": [
        "# let's visualize our data to start with\n",
        "plt.scatter(df['Age Decimal'], df['HEIGHT'])\n",
        "plt.xlabel('Age')\n",
        "plt.ylabel('Height (cm)')\n",
        "plt.show()"
      ],
      "metadata": {
        "id": "EwqHZkqj6dMi"
      },
      "execution_count": null,
      "outputs": []
    },
    {
      "cell_type": "code",
      "source": [
        "m, b = np.polyfit(df['Age Decimal'], df['HEIGHT'], 1)\n",
        "print('The slope is', m)\n",
        "print('The intercept is', b)"
      ],
      "metadata": {
        "id": "lpEORY3I7AOI"
      },
      "execution_count": null,
      "outputs": []
    },
    {
      "cell_type": "code",
      "source": [
        "min_value = min(df['Age Decimal'])\n",
        "max_value = max(df['Age Decimal'])\n",
        "x = [min_value, max_value]\n",
        "x = np.array(x)\n",
        "x"
      ],
      "metadata": {
        "id": "AhbfPi8m9Ms8"
      },
      "execution_count": null,
      "outputs": []
    },
    {
      "cell_type": "code",
      "source": [
        "y = m*x + b\n",
        "y"
      ],
      "metadata": {
        "id": "D9rcgW7v9wyf"
      },
      "execution_count": null,
      "outputs": []
    },
    {
      "cell_type": "code",
      "source": [
        "# let's visualize our data to start with\n",
        "plt.scatter(df['Age Decimal'], df['HEIGHT'])\n",
        "plt.plot(x, y, color='red')\n",
        "plt.xlabel('Age')\n",
        "plt.ylabel('Height (cm)')\n",
        "plt.show()"
      ],
      "metadata": {
        "id": "N3WDFrBW98hK"
      },
      "execution_count": null,
      "outputs": []
    },
    {
      "cell_type": "markdown",
      "source": [
        "## Checking Other Variables\n",
        "Now let's check if any other variables look like they could predict height."
      ],
      "metadata": {
        "id": "zl03RnuIus3F"
      }
    },
    {
      "cell_type": "code",
      "source": [
        "df.columns"
      ],
      "metadata": {
        "id": "F2wzRgSY3_VA"
      },
      "execution_count": null,
      "outputs": []
    },
    {
      "cell_type": "code",
      "source": [
        "# let's visualize our data to start with\n",
        "plt.figure(figsize=(15, 3))\n",
        "\n",
        "plt.subplot(1, 4, 1)\n",
        "plt.scatter(df['Age Decimal'], df['HEIGHT'])\n",
        "plt.xlabel('Age')\n",
        "plt.ylabel('Height (cm)')\n",
        "\n",
        "plt.subplot(1, 4, 2)\n",
        "plt.scatter(df['FOOT LENGTH'], df['HEIGHT'])\n",
        "plt.xlabel('Foot Length')\n",
        "\n",
        "plt.subplot(1, 4, 3)\n",
        "plt.scatter(df['INDEX FINGER'], df['HEIGHT'])\n",
        "plt.xlabel('Finger Length')\n",
        "\n",
        "plt.subplot(1, 4, 4)\n",
        "plt.scatter(df['# LETTERS'], df['HEIGHT'])\n",
        "plt.xlabel('Number of Letters in Name')\n",
        "\n",
        "plt.show()"
      ],
      "metadata": {
        "id": "eFqmaHl5-pRL"
      },
      "execution_count": null,
      "outputs": []
    },
    {
      "cell_type": "code",
      "source": [
        "# check correlation of each variable with height\n",
        "correlation = df[['Age Decimal', 'HEIGHT', 'FOOT LENGTH', 'INDEX FINGER', '# LETTERS']].corr()\n",
        "\n",
        "# Print the correlations\n",
        "print(correlation['HEIGHT'].round(2))"
      ],
      "metadata": {
        "id": "8QCP7o9a5Qni"
      },
      "execution_count": null,
      "outputs": []
    }
  ]
}