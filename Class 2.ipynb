{
  "nbformat": 4,
  "nbformat_minor": 0,
  "metadata": {
    "colab": {
      "provenance": []
    },
    "kernelspec": {
      "name": "python3",
      "display_name": "Python 3"
    },
    "language_info": {
      "name": "python"
    }
  },
  "cells": [
    {
      "cell_type": "markdown",
      "source": [
        "# Class 2: Intro to Simple Models"
      ],
      "metadata": {
        "id": "5EQmJ9dxw_9o"
      }
    },
    {
      "cell_type": "markdown",
      "source": [
        "## 1) Simplest Model\n",
        "The simplest model is just using an average for the future.  \n",
        "In math, an average is called a \"mean\"."
      ],
      "metadata": {
        "id": "n7b6U4GqzKj6"
      }
    },
    {
      "cell_type": "code",
      "source": [
        "import numpy as np\n",
        "import pandas as pd\n",
        "import matplotlib.pyplot as plt"
      ],
      "metadata": {
        "id": "N3Uqc_mPzaNr"
      },
      "execution_count": 1,
      "outputs": []
    },
    {
      "cell_type": "code",
      "source": [
        "# our data for the grades a student got in their last 10 classes\n",
        "grades = [85, 90, 75, 80, 65, 70, 85, 95, 60, 85]\n",
        "grades = np.array(grades)"
      ],
      "metadata": {
        "id": "2l8bjfzbzwhV"
      },
      "execution_count": 2,
      "outputs": []
    },
    {
      "cell_type": "code",
      "source": [
        "# calculate the average grade\n",
        "np.mean(grades)"
      ],
      "metadata": {
        "id": "wgg2qEDyzOLw",
        "colab": {
          "base_uri": "https://localhost:8080/"
        },
        "outputId": "a750ee4a-2f03-4135-aa42-ca8a94b4e288"
      },
      "execution_count": 3,
      "outputs": [
        {
          "output_type": "execute_result",
          "data": {
            "text/plain": [
              "79.0"
            ]
          },
          "metadata": {},
          "execution_count": 3
        }
      ]
    },
    {
      "cell_type": "markdown",
      "source": [
        "Now we can make predictions for what grade a student might get in their next class. It's a very simple model.  \n",
        "How could we make it better?"
      ],
      "metadata": {
        "id": "oDEDoLWd15rk"
      }
    },
    {
      "cell_type": "code",
      "source": [
        "# here are the types of classes\n",
        "class_type = [2, 2, 1, 1, 1, 1, 2, 2, 1, 2]\n",
        "class_type = np.array(class_type)"
      ],
      "metadata": {
        "id": "ClOrTBukzOP2"
      },
      "execution_count": 4,
      "outputs": []
    },
    {
      "cell_type": "code",
      "source": [
        "# now let's filter on class type 2\n",
        "grades_for_class_2 = grades[class_type == 2]"
      ],
      "metadata": {
        "id": "4_j3ZpfM4Vq1"
      },
      "execution_count": 5,
      "outputs": []
    },
    {
      "cell_type": "code",
      "source": [
        "# now calculate the average\n",
        "np.mean(grades_for_class_2)"
      ],
      "metadata": {
        "id": "m2qsug5D4VtE",
        "colab": {
          "base_uri": "https://localhost:8080/"
        },
        "outputId": "250d2fc8-758c-4ec2-ac10-d48a0224c111"
      },
      "execution_count": 6,
      "outputs": [
        {
          "output_type": "execute_result",
          "data": {
            "text/plain": [
              "88.0"
            ]
          },
          "metadata": {},
          "execution_count": 6
        }
      ]
    },
    {
      "cell_type": "markdown",
      "source": [
        "## 2) Linear Model with Our Data"
      ],
      "metadata": {
        "id": "kZSiYc1tw8Qr"
      }
    },
    {
      "cell_type": "code",
      "source": [
        "# read in our dataset\n",
        "filename = 'https://raw.githubusercontent.com/sayhellojoel/grade78pythonmath/main/Data/kids%20anonymous%20data.csv'\n",
        "df = pd.read_csv(filename)"
      ],
      "metadata": {
        "id": "wF2IX-1bOmPe"
      },
      "execution_count": 7,
      "outputs": []
    },
    {
      "cell_type": "code",
      "source": [
        "# show the first 5 lines from our dataset\n",
        "df.head(5)"
      ],
      "metadata": {
        "id": "Wa5AK6YHPRk1",
        "colab": {
          "base_uri": "https://localhost:8080/",
          "height": 206
        },
        "outputId": "6e267ebb-533e-4ed7-be2e-aeb4dcc79532"
      },
      "execution_count": 8,
      "outputs": [
        {
          "output_type": "execute_result",
          "data": {
            "text/plain": [
              "   Student  Class AGE (Y/M)  Age Decimal  HEIGHT  FOOT LENGTH  INDEX FINGER  \\\n",
              "0        1     78     12-11         12.9     174           26            10   \n",
              "1        2     78     13/11         13.9     173           24             9   \n",
              "2        3     78      13\\6         13.5     173           28             9   \n",
              "3        4     78     13/12         13.9     152           22             8   \n",
              "4        5     78      13/8         13.7     162           23             9   \n",
              "\n",
              "   # LETTERS EYE COLOUR  \n",
              "0          5       Blue  \n",
              "1          5      Green  \n",
              "2          5      Brown  \n",
              "3          5      Brown  \n",
              "4          5      Green  "
            ],
            "text/html": [
              "\n",
              "  <div id=\"df-c458579c-a31c-4e09-b5da-fe512b8375b6\" class=\"colab-df-container\">\n",
              "    <div>\n",
              "<style scoped>\n",
              "    .dataframe tbody tr th:only-of-type {\n",
              "        vertical-align: middle;\n",
              "    }\n",
              "\n",
              "    .dataframe tbody tr th {\n",
              "        vertical-align: top;\n",
              "    }\n",
              "\n",
              "    .dataframe thead th {\n",
              "        text-align: right;\n",
              "    }\n",
              "</style>\n",
              "<table border=\"1\" class=\"dataframe\">\n",
              "  <thead>\n",
              "    <tr style=\"text-align: right;\">\n",
              "      <th></th>\n",
              "      <th>Student</th>\n",
              "      <th>Class</th>\n",
              "      <th>AGE (Y/M)</th>\n",
              "      <th>Age Decimal</th>\n",
              "      <th>HEIGHT</th>\n",
              "      <th>FOOT LENGTH</th>\n",
              "      <th>INDEX FINGER</th>\n",
              "      <th># LETTERS</th>\n",
              "      <th>EYE COLOUR</th>\n",
              "    </tr>\n",
              "  </thead>\n",
              "  <tbody>\n",
              "    <tr>\n",
              "      <th>0</th>\n",
              "      <td>1</td>\n",
              "      <td>78</td>\n",
              "      <td>12-11</td>\n",
              "      <td>12.9</td>\n",
              "      <td>174</td>\n",
              "      <td>26</td>\n",
              "      <td>10</td>\n",
              "      <td>5</td>\n",
              "      <td>Blue</td>\n",
              "    </tr>\n",
              "    <tr>\n",
              "      <th>1</th>\n",
              "      <td>2</td>\n",
              "      <td>78</td>\n",
              "      <td>13/11</td>\n",
              "      <td>13.9</td>\n",
              "      <td>173</td>\n",
              "      <td>24</td>\n",
              "      <td>9</td>\n",
              "      <td>5</td>\n",
              "      <td>Green</td>\n",
              "    </tr>\n",
              "    <tr>\n",
              "      <th>2</th>\n",
              "      <td>3</td>\n",
              "      <td>78</td>\n",
              "      <td>13\\6</td>\n",
              "      <td>13.5</td>\n",
              "      <td>173</td>\n",
              "      <td>28</td>\n",
              "      <td>9</td>\n",
              "      <td>5</td>\n",
              "      <td>Brown</td>\n",
              "    </tr>\n",
              "    <tr>\n",
              "      <th>3</th>\n",
              "      <td>4</td>\n",
              "      <td>78</td>\n",
              "      <td>13/12</td>\n",
              "      <td>13.9</td>\n",
              "      <td>152</td>\n",
              "      <td>22</td>\n",
              "      <td>8</td>\n",
              "      <td>5</td>\n",
              "      <td>Brown</td>\n",
              "    </tr>\n",
              "    <tr>\n",
              "      <th>4</th>\n",
              "      <td>5</td>\n",
              "      <td>78</td>\n",
              "      <td>13/8</td>\n",
              "      <td>13.7</td>\n",
              "      <td>162</td>\n",
              "      <td>23</td>\n",
              "      <td>9</td>\n",
              "      <td>5</td>\n",
              "      <td>Green</td>\n",
              "    </tr>\n",
              "  </tbody>\n",
              "</table>\n",
              "</div>\n",
              "    <div class=\"colab-df-buttons\">\n",
              "\n",
              "  <div class=\"colab-df-container\">\n",
              "    <button class=\"colab-df-convert\" onclick=\"convertToInteractive('df-c458579c-a31c-4e09-b5da-fe512b8375b6')\"\n",
              "            title=\"Convert this dataframe to an interactive table.\"\n",
              "            style=\"display:none;\">\n",
              "\n",
              "  <svg xmlns=\"http://www.w3.org/2000/svg\" height=\"24px\" viewBox=\"0 -960 960 960\">\n",
              "    <path d=\"M120-120v-720h720v720H120Zm60-500h600v-160H180v160Zm220 220h160v-160H400v160Zm0 220h160v-160H400v160ZM180-400h160v-160H180v160Zm440 0h160v-160H620v160ZM180-180h160v-160H180v160Zm440 0h160v-160H620v160Z\"/>\n",
              "  </svg>\n",
              "    </button>\n",
              "\n",
              "  <style>\n",
              "    .colab-df-container {\n",
              "      display:flex;\n",
              "      gap: 12px;\n",
              "    }\n",
              "\n",
              "    .colab-df-convert {\n",
              "      background-color: #E8F0FE;\n",
              "      border: none;\n",
              "      border-radius: 50%;\n",
              "      cursor: pointer;\n",
              "      display: none;\n",
              "      fill: #1967D2;\n",
              "      height: 32px;\n",
              "      padding: 0 0 0 0;\n",
              "      width: 32px;\n",
              "    }\n",
              "\n",
              "    .colab-df-convert:hover {\n",
              "      background-color: #E2EBFA;\n",
              "      box-shadow: 0px 1px 2px rgba(60, 64, 67, 0.3), 0px 1px 3px 1px rgba(60, 64, 67, 0.15);\n",
              "      fill: #174EA6;\n",
              "    }\n",
              "\n",
              "    .colab-df-buttons div {\n",
              "      margin-bottom: 4px;\n",
              "    }\n",
              "\n",
              "    [theme=dark] .colab-df-convert {\n",
              "      background-color: #3B4455;\n",
              "      fill: #D2E3FC;\n",
              "    }\n",
              "\n",
              "    [theme=dark] .colab-df-convert:hover {\n",
              "      background-color: #434B5C;\n",
              "      box-shadow: 0px 1px 3px 1px rgba(0, 0, 0, 0.15);\n",
              "      filter: drop-shadow(0px 1px 2px rgba(0, 0, 0, 0.3));\n",
              "      fill: #FFFFFF;\n",
              "    }\n",
              "  </style>\n",
              "\n",
              "    <script>\n",
              "      const buttonEl =\n",
              "        document.querySelector('#df-c458579c-a31c-4e09-b5da-fe512b8375b6 button.colab-df-convert');\n",
              "      buttonEl.style.display =\n",
              "        google.colab.kernel.accessAllowed ? 'block' : 'none';\n",
              "\n",
              "      async function convertToInteractive(key) {\n",
              "        const element = document.querySelector('#df-c458579c-a31c-4e09-b5da-fe512b8375b6');\n",
              "        const dataTable =\n",
              "          await google.colab.kernel.invokeFunction('convertToInteractive',\n",
              "                                                    [key], {});\n",
              "        if (!dataTable) return;\n",
              "\n",
              "        const docLinkHtml = 'Like what you see? Visit the ' +\n",
              "          '<a target=\"_blank\" href=https://colab.research.google.com/notebooks/data_table.ipynb>data table notebook</a>'\n",
              "          + ' to learn more about interactive tables.';\n",
              "        element.innerHTML = '';\n",
              "        dataTable['output_type'] = 'display_data';\n",
              "        await google.colab.output.renderOutput(dataTable, element);\n",
              "        const docLink = document.createElement('div');\n",
              "        docLink.innerHTML = docLinkHtml;\n",
              "        element.appendChild(docLink);\n",
              "      }\n",
              "    </script>\n",
              "  </div>\n",
              "\n",
              "\n",
              "<div id=\"df-72b600b8-80fc-43ca-a2ed-90c12c4bb356\">\n",
              "  <button class=\"colab-df-quickchart\" onclick=\"quickchart('df-72b600b8-80fc-43ca-a2ed-90c12c4bb356')\"\n",
              "            title=\"Suggest charts\"\n",
              "            style=\"display:none;\">\n",
              "\n",
              "<svg xmlns=\"http://www.w3.org/2000/svg\" height=\"24px\"viewBox=\"0 0 24 24\"\n",
              "     width=\"24px\">\n",
              "    <g>\n",
              "        <path d=\"M19 3H5c-1.1 0-2 .9-2 2v14c0 1.1.9 2 2 2h14c1.1 0 2-.9 2-2V5c0-1.1-.9-2-2-2zM9 17H7v-7h2v7zm4 0h-2V7h2v10zm4 0h-2v-4h2v4z\"/>\n",
              "    </g>\n",
              "</svg>\n",
              "  </button>\n",
              "\n",
              "<style>\n",
              "  .colab-df-quickchart {\n",
              "      --bg-color: #E8F0FE;\n",
              "      --fill-color: #1967D2;\n",
              "      --hover-bg-color: #E2EBFA;\n",
              "      --hover-fill-color: #174EA6;\n",
              "      --disabled-fill-color: #AAA;\n",
              "      --disabled-bg-color: #DDD;\n",
              "  }\n",
              "\n",
              "  [theme=dark] .colab-df-quickchart {\n",
              "      --bg-color: #3B4455;\n",
              "      --fill-color: #D2E3FC;\n",
              "      --hover-bg-color: #434B5C;\n",
              "      --hover-fill-color: #FFFFFF;\n",
              "      --disabled-bg-color: #3B4455;\n",
              "      --disabled-fill-color: #666;\n",
              "  }\n",
              "\n",
              "  .colab-df-quickchart {\n",
              "    background-color: var(--bg-color);\n",
              "    border: none;\n",
              "    border-radius: 50%;\n",
              "    cursor: pointer;\n",
              "    display: none;\n",
              "    fill: var(--fill-color);\n",
              "    height: 32px;\n",
              "    padding: 0;\n",
              "    width: 32px;\n",
              "  }\n",
              "\n",
              "  .colab-df-quickchart:hover {\n",
              "    background-color: var(--hover-bg-color);\n",
              "    box-shadow: 0 1px 2px rgba(60, 64, 67, 0.3), 0 1px 3px 1px rgba(60, 64, 67, 0.15);\n",
              "    fill: var(--button-hover-fill-color);\n",
              "  }\n",
              "\n",
              "  .colab-df-quickchart-complete:disabled,\n",
              "  .colab-df-quickchart-complete:disabled:hover {\n",
              "    background-color: var(--disabled-bg-color);\n",
              "    fill: var(--disabled-fill-color);\n",
              "    box-shadow: none;\n",
              "  }\n",
              "\n",
              "  .colab-df-spinner {\n",
              "    border: 2px solid var(--fill-color);\n",
              "    border-color: transparent;\n",
              "    border-bottom-color: var(--fill-color);\n",
              "    animation:\n",
              "      spin 1s steps(1) infinite;\n",
              "  }\n",
              "\n",
              "  @keyframes spin {\n",
              "    0% {\n",
              "      border-color: transparent;\n",
              "      border-bottom-color: var(--fill-color);\n",
              "      border-left-color: var(--fill-color);\n",
              "    }\n",
              "    20% {\n",
              "      border-color: transparent;\n",
              "      border-left-color: var(--fill-color);\n",
              "      border-top-color: var(--fill-color);\n",
              "    }\n",
              "    30% {\n",
              "      border-color: transparent;\n",
              "      border-left-color: var(--fill-color);\n",
              "      border-top-color: var(--fill-color);\n",
              "      border-right-color: var(--fill-color);\n",
              "    }\n",
              "    40% {\n",
              "      border-color: transparent;\n",
              "      border-right-color: var(--fill-color);\n",
              "      border-top-color: var(--fill-color);\n",
              "    }\n",
              "    60% {\n",
              "      border-color: transparent;\n",
              "      border-right-color: var(--fill-color);\n",
              "    }\n",
              "    80% {\n",
              "      border-color: transparent;\n",
              "      border-right-color: var(--fill-color);\n",
              "      border-bottom-color: var(--fill-color);\n",
              "    }\n",
              "    90% {\n",
              "      border-color: transparent;\n",
              "      border-bottom-color: var(--fill-color);\n",
              "    }\n",
              "  }\n",
              "</style>\n",
              "\n",
              "  <script>\n",
              "    async function quickchart(key) {\n",
              "      const quickchartButtonEl =\n",
              "        document.querySelector('#' + key + ' button');\n",
              "      quickchartButtonEl.disabled = true;  // To prevent multiple clicks.\n",
              "      quickchartButtonEl.classList.add('colab-df-spinner');\n",
              "      try {\n",
              "        const charts = await google.colab.kernel.invokeFunction(\n",
              "            'suggestCharts', [key], {});\n",
              "      } catch (error) {\n",
              "        console.error('Error during call to suggestCharts:', error);\n",
              "      }\n",
              "      quickchartButtonEl.classList.remove('colab-df-spinner');\n",
              "      quickchartButtonEl.classList.add('colab-df-quickchart-complete');\n",
              "    }\n",
              "    (() => {\n",
              "      let quickchartButtonEl =\n",
              "        document.querySelector('#df-72b600b8-80fc-43ca-a2ed-90c12c4bb356 button');\n",
              "      quickchartButtonEl.style.display =\n",
              "        google.colab.kernel.accessAllowed ? 'block' : 'none';\n",
              "    })();\n",
              "  </script>\n",
              "</div>\n",
              "    </div>\n",
              "  </div>\n"
            ]
          },
          "metadata": {},
          "execution_count": 8
        }
      ]
    },
    {
      "cell_type": "markdown",
      "source": [
        "### Scatterplot\n",
        "It's always a good idea to look at your data before trying anything else.  \n",
        "Here, we can visually see the trend in the data.  "
      ],
      "metadata": {
        "id": "UB3NVN0U6Zfq"
      }
    },
    {
      "cell_type": "code",
      "source": [
        "# let's visualize our data to start with\n",
        "plt.scatter(df['Age Decimal'], df['HEIGHT'])\n",
        "plt.xlabel('Age')\n",
        "plt.ylabel('Height (cm)')\n",
        "plt.show()"
      ],
      "metadata": {
        "id": "EwqHZkqj6dMi",
        "colab": {
          "base_uri": "https://localhost:8080/",
          "height": 449
        },
        "outputId": "16c43ad1-691e-4d83-e93b-5bb953c3f13a"
      },
      "execution_count": 9,
      "outputs": [
        {
          "output_type": "display_data",
          "data": {
            "text/plain": [
              "<Figure size 640x480 with 1 Axes>"
            ],
            "image/png": "[encoded data removed]"
          },
          "metadata": {}
        }
      ]
    },
    {
      "cell_type": "code",
      "source": [
        "m, b = np.polyfit(df['Age Decimal'], df['HEIGHT'], 1)\n",
        "print('The slope is', m)\n",
        "print('The intercept is', b)"
      ],
      "metadata": {
        "id": "lpEORY3I7AOI",
        "colab": {
          "base_uri": "https://localhost:8080/"
        },
        "outputId": "ec763f45-ace2-48b2-a5be-a49fec6e0c4c"
      },
      "execution_count": 10,
      "outputs": [
        {
          "output_type": "stream",
          "name": "stdout",
          "text": [
            "The slope is 5.400521844211616\n",
            "The intercept is 91.16458157794895\n"
          ]
        }
      ]
    },
    {
      "cell_type": "code",
      "source": [
        "min_value = min(df['Age Decimal'])\n",
        "max_value = max(df['Age Decimal'])\n",
        "x = [min_value, max_value]\n",
        "x = np.array(x)\n",
        "x"
      ],
      "metadata": {
        "id": "AhbfPi8m9Ms8",
        "colab": {
          "base_uri": "https://localhost:8080/"
        },
        "outputId": "e73ba66b-35fe-4934-ce45-ebdcd6ede5f8"
      },
      "execution_count": 11,
      "outputs": [
        {
          "output_type": "execute_result",
          "data": {
            "text/plain": [
              "array([ 9.9, 14.7])"
            ]
          },
          "metadata": {},
          "execution_count": 11
        }
      ]
    },
    {
      "cell_type": "code",
      "source": [
        "y = m*x + b\n",
        "y"
      ],
      "metadata": {
        "id": "D9rcgW7v9wyf",
        "colab": {
          "base_uri": "https://localhost:8080/"
        },
        "outputId": "cca0a155-fd5e-41a5-cb79-1f654849b84c"
      },
      "execution_count": 12,
      "outputs": [
        {
          "output_type": "execute_result",
          "data": {
            "text/plain": [
              "array([144.62974784, 170.55225269])"
            ]
          },
          "metadata": {},
          "execution_count": 12
        }
      ]
    },
    {
      "cell_type": "code",
      "source": [
        "# let's visualize our data to start with\n",
        "plt.scatter(df['Age Decimal'], df['HEIGHT'])\n",
        "plt.plot(x, y, color='red')\n",
        "plt.xlabel('Age')\n",
        "plt.ylabel('Height (cm)')\n",
        "plt.show()"
      ],
      "metadata": {
        "id": "N3WDFrBW98hK",
        "colab": {
          "base_uri": "https://localhost:8080/",
          "height": 449
        },
        "outputId": "b9779321-c12c-40fa-8636-a04a181070c3"
      },
      "execution_count": 13,
      "outputs": [
        {
          "output_type": "display_data",
          "data": {
            "text/plain": [
              "<Figure size 640x480 with 1 Axes>"
            ],
            "image/png": "[encoded data removed]"
          },
          "metadata": {}
        }
      ]
    },
    {
      "cell_type": "markdown",
      "source": [
        "## Checking Other Variables\n",
        "Now let's check if any other variables look like they could predict height."
      ],
      "metadata": {
        "id": "zl03RnuIus3F"
      }
    },
    {
      "cell_type": "code",
      "source": [
        "df.columns"
      ],
      "metadata": {
        "id": "F2wzRgSY3_VA",
        "colab": {
          "base_uri": "https://localhost:8080/"
        },
        "outputId": "d51bdc90-1031-43cd-fcc4-dd2f272118c3"
      },
      "execution_count": 14,
      "outputs": [
        {
          "output_type": "execute_result",
          "data": {
            "text/plain": [
              "Index(['Student', 'Class', 'AGE (Y/M)', 'Age Decimal', 'HEIGHT', 'FOOT LENGTH',\n",
              "       'INDEX FINGER', '# LETTERS', 'EYE COLOUR'],\n",
              "      dtype='object')"
            ]
          },
          "metadata": {},
          "execution_count": 14
        }
      ]
    },
    {
      "cell_type": "code",
      "source": [
        "# let's visualize our data to start with\n",
        "plt.figure(figsize=(15, 3))\n",
        "\n",
        "plt.subplot(1, 4, 1)\n",
        "plt.scatter(df['Age Decimal'], df['HEIGHT'])\n",
        "plt.xlabel('Age')\n",
        "plt.ylabel('Height (cm)')\n",
        "\n",
        "plt.subplot(1, 4, 2)\n",
        "plt.scatter(df['FOOT LENGTH'], df['HEIGHT'])\n",
        "plt.xlabel('Foot Length')\n",
        "\n",
        "plt.subplot(1, 4, 3)\n",
        "plt.scatter(df['INDEX FINGER'], df['HEIGHT'])\n",
        "plt.xlabel('Finger Length')\n",
        "\n",
        "plt.subplot(1, 4, 4)\n",
        "plt.scatter(df['# LETTERS'], df['HEIGHT'])\n",
        "plt.xlabel('Number of Letters in Name')\n",
        "\n",
        "plt.show()"
      ],
      "metadata": {
        "id": "eFqmaHl5-pRL",
        "colab": {
          "base_uri": "https://localhost:8080/",
          "height": 311
        },
        "outputId": "5bf127ad-2412-4574-b41d-a39ed66520dd"
      },
      "execution_count": 15,
      "outputs": [
        {
          "output_type": "display_data",
          "data": {
            "text/plain": [
              "<Figure size 1500x300 with 4 Axes>"
            ],
            "image/png": "[encoded data removed]"
          },
          "metadata": {}
        }
      ]
    },
    {
      "cell_type": "code",
      "source": [
        "# check correlation of each variable with height\n",
        "correlation = df[['Age Decimal', 'HEIGHT', 'FOOT LENGTH', 'INDEX FINGER', '# LETTERS']].corr()\n",
        "\n",
        "# Print the correlations\n",
        "print(correlation['HEIGHT'].round(2))"
      ],
      "metadata": {
        "id": "8QCP7o9a5Qni",
        "colab": {
          "base_uri": "https://localhost:8080/"
        },
        "outputId": "39d46f3d-81d7-42a7-bc83-91cb22b97db1"
      },
      "execution_count": 16,
      "outputs": [
        {
          "output_type": "stream",
          "name": "stdout",
          "text": [
            "Age Decimal     0.64\n",
            "HEIGHT          1.00\n",
            "FOOT LENGTH     0.83\n",
            "INDEX FINGER    0.63\n",
            "# LETTERS       0.02\n",
            "Name: HEIGHT, dtype: float64\n"
          ]
        }
      ]
    },
    {
      "cell_type": "markdown",
      "source": [
        "# New Model with Best Predictor (Foot Length)\n",
        "Now let's make a new model with our best predictor: foot length."
      ],
      "metadata": {
        "id": "PEm9nxfZpE-j"
      }
    },
    {
      "cell_type": "code",
      "source": [
        "m, b = np.polyfit(df['FOOT LENGTH'], df['HEIGHT'], 1)\n",
        "print('The slope is', m)\n",
        "print('The intercept is', b)"
      ],
      "metadata": {
        "colab": {
          "base_uri": "https://localhost:8080/"
        },
        "id": "VabuT_OYUGlZ",
        "outputId": "65ea211f-fed1-4155-ea20-90ea5406ebcb"
      },
      "execution_count": 17,
      "outputs": [
        {
          "output_type": "stream",
          "name": "stdout",
          "text": [
            "The slope is 3.9714672598897405\n",
            "The intercept is 60.8757133185027\n"
          ]
        }
      ]
    },
    {
      "cell_type": "code",
      "source": [
        "min_value = min(df['FOOT LENGTH'])\n",
        "max_value = max(df['FOOT LENGTH'])\n",
        "x = [min_value, max_value]\n",
        "x = np.array(x)\n",
        "\n",
        "y = m * x + b"
      ],
      "metadata": {
        "id": "kdQuK_ptUPUD"
      },
      "execution_count": 25,
      "outputs": []
    },
    {
      "cell_type": "code",
      "source": [
        "# let's visualize our data to start with\n",
        "plt.scatter(df['FOOT LENGTH'], df['HEIGHT'])\n",
        "plt.title('Foot Size is Correlated with Height')\n",
        "plt.plot(x, y, color='red')\n",
        "plt.xlabel('Foot size (cm)')\n",
        "plt.ylabel('Height (cm)')\n",
        "plt.show()"
      ],
      "metadata": {
        "colab": {
          "base_uri": "https://localhost:8080/",
          "height": 472
        },
        "id": "bU8a0b-lUPWQ",
        "outputId": "fe3283c0-3059-4f4b-bfee-5e290f26406e"
      },
      "execution_count": 27,
      "outputs": [
        {
          "output_type": "display_data",
          "data": {
            "text/plain": [
              "<Figure size 640x480 with 1 Axes>"
            ],
            "image/png": "[encoded data removed]"
          },
          "metadata": {}
        }
      ]
    },
    {
      "cell_type": "code",
      "source": [],
      "metadata": {
        "id": "NgOh_5x8UaGU"
      },
      "execution_count": null,
      "outputs": []
    }
  ]
}