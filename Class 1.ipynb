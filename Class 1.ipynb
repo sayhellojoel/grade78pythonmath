{
  "nbformat": 4,
  "nbformat_minor": 0,
  "metadata": {
    "colab": {
      "provenance": []
    },
    "kernelspec": {
      "name": "python3",
      "display_name": "Python 3"
    },
    "language_info": {
      "name": "python"
    }
  },
  "cells": [
    {
      "cell_type": "markdown",
      "source": [
        "# Class 1: Intro to Math Programming in Python"
      ],
      "metadata": {
        "id": "5EQmJ9dxw_9o"
      }
    },
    {
      "cell_type": "markdown",
      "source": [
        "## 1) Getting Started with Python\n",
        "Let's start with a brief introduction to Python.  \n",
        "This is called a Jupyter Notebook.  \n",
        "You can write in explanations in \"text\" boxes like this one."
      ],
      "metadata": {
        "id": "q0pmgZUzxRxS"
      }
    },
    {
      "cell_type": "code",
      "source": [
        "# you can also write \"comments\" with # signs in any block of code\n",
        "# this is a comment"
      ],
      "metadata": {
        "id": "2FNnJOHpxc61"
      },
      "execution_count": null,
      "outputs": []
    },
    {
      "cell_type": "markdown",
      "source": [
        "Larger explanations are written in text boxes like this and smaller, more specific comments are written in line with code for clarity."
      ],
      "metadata": {
        "id": "HEed8aXDxiB5"
      }
    },
    {
      "cell_type": "markdown",
      "source": [
        "### 1.1) Python Basics"
      ],
      "metadata": {
        "id": "19ZB-P08QEoq"
      }
    },
    {
      "cell_type": "code",
      "source": [
        "print('Hello world')"
      ],
      "metadata": {
        "colab": {
          "base_uri": "https://localhost:8080/"
        },
        "id": "uW_hRCWdn5AX",
        "outputId": "edb01be3-5fa4-4cda-9a3a-43a45e71fbd8"
      },
      "execution_count": null,
      "outputs": [
        {
          "output_type": "stream",
          "name": "stdout",
          "text": [
            "Hello world\n"
          ]
        }
      ]
    },
    {
      "cell_type": "code",
      "source": [
        "# simple calculation and printing\n",
        "print(1+1)"
      ],
      "metadata": {
        "colab": {
          "base_uri": "https://localhost:8080/"
        },
        "id": "vUcowuQ2O3EO",
        "outputId": "c254a302-e6e0-4270-c337-467f56a9bb3f"
      },
      "execution_count": null,
      "outputs": [
        {
          "output_type": "stream",
          "name": "stdout",
          "text": [
            "2\n"
          ]
        }
      ]
    },
    {
      "cell_type": "code",
      "source": [
        "# multiplication uses an asterisk *\n",
        "print(5*5)"
      ],
      "metadata": {
        "colab": {
          "base_uri": "https://localhost:8080/"
        },
        "id": "XKMK2yacQCez",
        "outputId": "fa0862be-a43e-4405-fb79-4249c593f1e7"
      },
      "execution_count": null,
      "outputs": [
        {
          "output_type": "stream",
          "name": "stdout",
          "text": [
            "25\n"
          ]
        }
      ]
    },
    {
      "cell_type": "code",
      "source": [
        "# division uses a slash /\n",
        "print(5/5)"
      ],
      "metadata": {
        "colab": {
          "base_uri": "https://localhost:8080/"
        },
        "id": "cJgHiZvmQCz6",
        "outputId": "3efa6225-a30c-4a5d-95d6-3607812ee9ca"
      },
      "execution_count": null,
      "outputs": [
        {
          "output_type": "stream",
          "name": "stdout",
          "text": [
            "1.0\n"
          ]
        }
      ]
    },
    {
      "cell_type": "code",
      "source": [
        "# we can do calculations in variables to store them for other usage\n",
        "x = 2*3\n",
        "print(x)"
      ],
      "metadata": {
        "colab": {
          "base_uri": "https://localhost:8080/"
        },
        "id": "d8k3qfbkQC43",
        "outputId": "ce506268-0df3-4a86-9b60-12e4d6777400"
      },
      "execution_count": null,
      "outputs": [
        {
          "output_type": "stream",
          "name": "stdout",
          "text": [
            "6\n"
          ]
        }
      ]
    },
    {
      "cell_type": "code",
      "source": [
        "the_variable_name_can_be_whatever_you_want = 'and you can store text in a variable by using quotes'"
      ],
      "metadata": {
        "id": "39cIZbwQkog_"
      },
      "execution_count": null,
      "outputs": []
    },
    {
      "cell_type": "markdown",
      "source": [
        "We can also run some code that depends on other code.  "
      ],
      "metadata": {
        "id": "77JEtx6UmNlM"
      }
    },
    {
      "cell_type": "code",
      "source": [
        "# exercise: Enter your name!\n",
        "name = 'Finley'"
      ],
      "metadata": {
        "id": "EJ9vlcMonOV1"
      },
      "execution_count": null,
      "outputs": []
    },
    {
      "cell_type": "markdown",
      "source": [
        "This is called an if statement. It checks if something is true and runs code depending on if it is true or not.  \n",
        "We use a single equals sign (=) when we want to <b><i>make something</i></b> equal to something else.  \n",
        "We use two equals signs (==) when we are <b><i>checking if</i></b> something \"is equal to\" something else.  "
      ],
      "metadata": {
        "id": "2XiJcfZdnfPl"
      }
    },
    {
      "cell_type": "code",
      "source": [
        "if name == 'Joel':\n",
        "  print('You are the teacher today')"
      ],
      "metadata": {
        "id": "-1TaONNzm5E6"
      },
      "execution_count": null,
      "outputs": []
    },
    {
      "cell_type": "markdown",
      "source": [
        "We can make our \"if statement\" into an \"if else statement\" by telling it what to do if the condition is not true."
      ],
      "metadata": {
        "id": "rBFxtYfanpuJ"
      }
    },
    {
      "cell_type": "code",
      "source": [
        "if name == 'Joel':\n",
        "  print('You are the teacher today')\n",
        "else:\n",
        "  print('You are special, but you are not the teacher')"
      ],
      "metadata": {
        "colab": {
          "base_uri": "https://localhost:8080/"
        },
        "id": "nPcNrL2om5HD",
        "outputId": "5d9cd8df-a37c-414b-d335-1aeefffe1787"
      },
      "execution_count": null,
      "outputs": [
        {
          "output_type": "stream",
          "name": "stdout",
          "text": [
            "You are special, but you are not the teacher\n"
          ]
        }
      ]
    },
    {
      "cell_type": "code",
      "source": [
        "# this is a basic way to get inputs from the user\n",
        "your_name = input(\"What is your name? \")"
      ],
      "metadata": {
        "id": "VIwxYlyD0RIC",
        "outputId": "c81ac288-343c-4426-d6f8-a0f99f4de463",
        "colab": {
          "base_uri": "https://localhost:8080/"
        }
      },
      "execution_count": null,
      "outputs": [
        {
          "name": "stdout",
          "output_type": "stream",
          "text": [
            "What is your name? Joel\n"
          ]
        }
      ]
    },
    {
      "cell_type": "code",
      "source": [
        "# let's consider the type of data each variable is\n",
        "type('a name')"
      ],
      "metadata": {
        "id": "JeY9wgN30p2r",
        "outputId": "69ae826e-cfb5-4258-a81a-93c021928e29",
        "colab": {
          "base_uri": "https://localhost:8080/"
        }
      },
      "execution_count": null,
      "outputs": [
        {
          "output_type": "execute_result",
          "data": {
            "text/plain": [
              "str"
            ]
          },
          "metadata": {},
          "execution_count": 64
        }
      ]
    },
    {
      "cell_type": "code",
      "source": [
        "type(1)"
      ],
      "metadata": {
        "id": "b-6nNeDv0070",
        "outputId": "459aed11-e235-4036-bead-2de7ae11d96a",
        "colab": {
          "base_uri": "https://localhost:8080/"
        }
      },
      "execution_count": null,
      "outputs": [
        {
          "output_type": "execute_result",
          "data": {
            "text/plain": [
              "int"
            ]
          },
          "metadata": {},
          "execution_count": 63
        }
      ]
    },
    {
      "cell_type": "code",
      "source": [
        "type(0.1)"
      ],
      "metadata": {
        "id": "yY0G26e81GsL",
        "outputId": "42e31b15-b1e2-46a4-974f-20eff00996a6",
        "colab": {
          "base_uri": "https://localhost:8080/"
        }
      },
      "execution_count": null,
      "outputs": [
        {
          "output_type": "execute_result",
          "data": {
            "text/plain": [
              "float"
            ]
          },
          "metadata": {},
          "execution_count": 65
        }
      ]
    },
    {
      "cell_type": "markdown",
      "source": [
        "### 1.2) Mini Programs\n",
        "Now let's make a mini calculator program."
      ],
      "metadata": {
        "id": "uS3dty1raACA"
      }
    },
    {
      "cell_type": "code",
      "source": [
        "# addition \"program\"\n",
        "a = input(\"First number: \")\n",
        "a = int(a) # Convert the string input to int\n",
        "b = input(\"Second number: \")\n",
        "b = int(b) # Convert the string input to int\n",
        "the_answer = a + b\n",
        "print(\"Answer:\", the_answer)"
      ],
      "metadata": {
        "colab": {
          "base_uri": "https://localhost:8080/"
        },
        "id": "1_1mjLitm5I-",
        "outputId": "bf44b373-849f-4b20-ccd1-087c26482203"
      },
      "execution_count": null,
      "outputs": [
        {
          "output_type": "stream",
          "name": "stdout",
          "text": [
            "First number: 3\n",
            "Second number: 6\n",
            "Sum: 9\n"
          ]
        }
      ]
    },
    {
      "cell_type": "markdown",
      "source": [
        "#### EXERCISE #1\n",
        "Can you adapt this code to work with multiplication in the empty code block below?"
      ],
      "metadata": {
        "id": "k89XXLKnaETi"
      }
    },
    {
      "cell_type": "code",
      "source": [
        "# multiplication \"program\"\n",
        "\n",
        "\n",
        "\n",
        "\n"
      ],
      "metadata": {
        "colab": {
          "base_uri": "https://localhost:8080/"
        },
        "id": "p_57chCLaDvy",
        "outputId": "b369b9ba-d744-49b7-d832-7129879032bf"
      },
      "execution_count": null,
      "outputs": [
        {
          "output_type": "stream",
          "name": "stdout",
          "text": [
            "First number: 3\n",
            "Second number: 3\n",
            "Product: 9\n"
          ]
        }
      ]
    },
    {
      "cell_type": "markdown",
      "source": [
        "#### Functions"
      ],
      "metadata": {
        "id": "I-K_q0UBa_8e"
      }
    },
    {
      "cell_type": "code",
      "source": [
        "def your_function_name():\n",
        "  # this is the middle of the function\n",
        "  # random calculations inside the function\n",
        "  return 'I ran a function'\n",
        "\n",
        "print(your_function_name())"
      ],
      "metadata": {
        "id": "VBOq1qgh3OnS",
        "outputId": "bf81e9d0-129d-40f9-a1bc-050b0f7083d7",
        "colab": {
          "base_uri": "https://localhost:8080/"
        }
      },
      "execution_count": null,
      "outputs": [
        {
          "output_type": "stream",
          "name": "stdout",
          "text": [
            "I ran a function\n"
          ]
        }
      ]
    },
    {
      "cell_type": "markdown",
      "source": [
        "We can write the same \"program\" in the form of a function."
      ],
      "metadata": {
        "id": "7nCZ9D7B5A5E"
      }
    },
    {
      "cell_type": "code",
      "source": [
        "# create the function using \"def\"\n",
        "def add_two_numbers(a, b):\n",
        "  answer = a + b\n",
        "  return answer"
      ],
      "metadata": {
        "id": "9jreTGzlbKQE"
      },
      "execution_count": null,
      "outputs": []
    },
    {
      "cell_type": "code",
      "source": [
        "add_two_numbers(1,2)"
      ],
      "metadata": {
        "colab": {
          "base_uri": "https://localhost:8080/"
        },
        "id": "xwleewdgbKTg",
        "outputId": "9325457e-c07d-47f8-c0a1-121fe11339dc"
      },
      "execution_count": null,
      "outputs": [
        {
          "output_type": "execute_result",
          "data": {
            "text/plain": [
              "3"
            ]
          },
          "metadata": {},
          "execution_count": 67
        }
      ]
    },
    {
      "cell_type": "markdown",
      "source": [
        "#### EXERCISE #2 (optional)\n",
        "Can you adjust this function to work with multiplication in the empty code block below?"
      ],
      "metadata": {
        "id": "6uEjRCqDch6i"
      }
    },
    {
      "cell_type": "code",
      "source": [
        "# multiplication function\n",
        "\n",
        "\n"
      ],
      "metadata": {
        "colab": {
          "base_uri": "https://localhost:8080/"
        },
        "id": "qbcZ6uPqcKs4",
        "outputId": "3dfe931e-d95d-49d0-cc9d-2d9200e697a6"
      },
      "execution_count": null,
      "outputs": [
        {
          "output_type": "execute_result",
          "data": {
            "text/plain": [
              "12"
            ]
          },
          "metadata": {},
          "execution_count": 71
        }
      ]
    },
    {
      "cell_type": "markdown",
      "source": [
        "### 1.3) Formula of a Line\n",
        "Remember that the equation for a line is: $y = \\text{slope} \\times x + \\text{intercept}$  \n",
        "Let's set the slope to 2 and the intercept to 1.  \n",
        "Now we can calculate the corresponding y value."
      ],
      "metadata": {
        "id": "UCsTo8oFSmUD"
      }
    },
    {
      "cell_type": "code",
      "source": [
        "# now we calculate y when we have a given x\n",
        "slope = 2\n",
        "intercept = 1\n",
        "x = 1\n",
        "\n",
        "y = slope * x + intercept\n",
        "y"
      ],
      "metadata": {
        "colab": {
          "base_uri": "https://localhost:8080/"
        },
        "id": "Or70B7rQRGCy",
        "outputId": "c2a4b621-5f6e-4a75-ed69-873397482783"
      },
      "execution_count": null,
      "outputs": [
        {
          "output_type": "execute_result",
          "data": {
            "text/plain": [
              "3"
            ]
          },
          "metadata": {},
          "execution_count": 36
        }
      ]
    },
    {
      "cell_type": "markdown",
      "source": [
        "Here is an example where we do the same calculation for five values of x at the same time with something called a \"for loop\".  \n",
        "It basically calculates the first y value, then the second value, etc."
      ],
      "metadata": {
        "id": "Skwxy2DvT97C"
      }
    },
    {
      "cell_type": "code",
      "source": [
        "x_list = [1,2,3,4,5] # make a list of x values\n",
        "y_list = [] # initialize a list for putting corresponding y values\n",
        "\n",
        "# this for loop performs the same calculation for each value in the list\n",
        "for x in x_list:\n",
        "  y = slope * x + intercept # calculate y value\n",
        "  y_list.append(y) # add the y value to the list\n",
        "\n",
        "print(y_list)"
      ],
      "metadata": {
        "colab": {
          "base_uri": "https://localhost:8080/"
        },
        "id": "pmZnpEvqQC7h",
        "outputId": "6ff0cbac-0524-464e-befb-04d20f3bb9dd"
      },
      "execution_count": null,
      "outputs": [
        {
          "output_type": "stream",
          "name": "stdout",
          "text": [
            "[3, 5, 7, 9, 11]\n"
          ]
        }
      ]
    },
    {
      "cell_type": "markdown",
      "source": [
        "Now let's do the same thing with a huge list of a hundred million numbers.  \n",
        "But before we go huge, we first have to introduce something called an \"array\". An array is like a list, but it's easier for calculations. We need to import a package called numpy to make the array. NumPy stands for Numerical Computing in Python.  \n",
        "*An array is sometimes known as a vector*"
      ],
      "metadata": {
        "id": "Pc9vGl-iXAYT"
      }
    },
    {
      "cell_type": "code",
      "source": [
        "import numpy as np\n",
        "\n",
        "# Create an array\n",
        "x_array = np.arange(5)\n",
        "x_array"
      ],
      "metadata": {
        "colab": {
          "base_uri": "https://localhost:8080/"
        },
        "id": "N2tL7swIZNbx",
        "outputId": "cd6b9d7e-6a64-428f-f229-534723226cb9"
      },
      "execution_count": null,
      "outputs": [
        {
          "output_type": "execute_result",
          "data": {
            "text/plain": [
              "array([0, 1, 2, 3, 4])"
            ]
          },
          "metadata": {},
          "execution_count": 38
        }
      ]
    },
    {
      "cell_type": "markdown",
      "source": [
        "Now let's overwrite that array with a massive, 100 million number array."
      ],
      "metadata": {
        "id": "nSnevUZHk0H6"
      }
    },
    {
      "cell_type": "code",
      "source": [
        "# Create a longer array\n",
        "x_array = np.arange(100000000)\n",
        "x_array"
      ],
      "metadata": {
        "colab": {
          "base_uri": "https://localhost:8080/"
        },
        "id": "pvthFbyJZh6b",
        "outputId": "d4e25ac6-5030-4d99-bd3c-50b75af2cd02"
      },
      "execution_count": null,
      "outputs": [
        {
          "output_type": "execute_result",
          "data": {
            "text/plain": [
              "array([       0,        1,        2, ..., 99999997, 99999998, 99999999])"
            ]
          },
          "metadata": {},
          "execution_count": 39
        }
      ]
    },
    {
      "cell_type": "markdown",
      "source": [
        "Ok now that we have our array of numbers, we can calculate the y values for each of them."
      ],
      "metadata": {
        "id": "XrznneCUYG6q"
      }
    },
    {
      "cell_type": "code",
      "source": [
        "# calculate for y_array all at once\n",
        "y_array = slope * x_array + intercept\n",
        "print(y_array)"
      ],
      "metadata": {
        "colab": {
          "base_uri": "https://localhost:8080/"
        },
        "id": "Tit8Q9rKQC-X",
        "outputId": "ce797669-6541-4b65-8211-25cd0f387be5"
      },
      "execution_count": null,
      "outputs": [
        {
          "output_type": "stream",
          "name": "stdout",
          "text": [
            "[        1         3         5 ... 199999995 199999997 199999999]\n"
          ]
        }
      ]
    },
    {
      "cell_type": "markdown",
      "source": [
        "### 1.4) Basic Plotting\n",
        "Let's plot our line. But to make it easier to see, let's reduce it to 10 points."
      ],
      "metadata": {
        "id": "mnoP7UPelMOq"
      }
    },
    {
      "cell_type": "code",
      "source": [
        "import matplotlib.pyplot as plt # import new package for plotting\n",
        "x_array = np.arange(10)\n",
        "y_array = slope * x_array + intercept\n",
        "\n",
        "# plot\n",
        "plt.scatter(x_array, y_array) # this part tells is what arrays to plot with\n",
        "plt.ylim([0, 20]) # sets the min and max values for y axis, min=0, max=20\n",
        "plt.show()"
      ],
      "metadata": {
        "colab": {
          "base_uri": "https://localhost:8080/",
          "height": 435
        },
        "id": "hBQK7KTKlBqq",
        "outputId": "2159ad1f-a016-436c-817a-732c7f0e4029"
      },
      "execution_count": null,
      "outputs": [
        {
          "output_type": "display_data",
          "data": {
            "text/plain": [
              "<Figure size 640x480 with 1 Axes>"
            ],
            "image/png": "[encoded data removed]"
          },
          "metadata": {}
        }
      ]
    },
    {
      "cell_type": "code",
      "source": [
        "x_array = np.arange(1000)\n",
        "y_array = slope * x_array + intercept\n",
        "\n",
        "# plot\n",
        "plt.scatter(x_array, y_array) # this part tells is what arrays to plot with\n",
        "plt.show()"
      ],
      "metadata": {
        "colab": {
          "base_uri": "https://localhost:8080/",
          "height": 430
        },
        "id": "gGQZcrkijcna",
        "outputId": "417e179f-c3a7-4a04-d1b9-010fce3cc4e4"
      },
      "execution_count": null,
      "outputs": [
        {
          "output_type": "display_data",
          "data": {
            "text/plain": [
              "<Figure size 640x480 with 1 Axes>"
            ],
            "image/png": "[encoded data removed]"
          },
          "metadata": {}
        }
      ]
    },
    {
      "cell_type": "markdown",
      "source": [
        "## 2) Read and inspect the file\n",
        "Now let's check out an anonymous dataset of your classmates.  \n",
        "Pandas is a package for working with dataframes, aka datasets.  \n",
        "Matplotlib is a package for visualizing data.  \n",
        "The \"as pd\" part of the code above means that we give it a shortcut so we can reference the package as \"pd\" from now on."
      ],
      "metadata": {
        "id": "kZSiYc1tw8Qr"
      }
    },
    {
      "cell_type": "code",
      "execution_count": null,
      "metadata": {
        "id": "GBh1vlhtzIGa"
      },
      "outputs": [],
      "source": [
        "# we need to import packages to be able to work with them\n",
        "import pandas as pd"
      ]
    },
    {
      "cell_type": "code",
      "source": [
        "# read in our dataset\n",
        "filename = 'https://raw.githubusercontent.com/sayhellojoel/grade78pythonmath/af67a80a763a8daab05d51d9dc37bef15a9b661b/Data/kids%20anonymous%20data.csv'\n",
        "df_kids = pd.read_csv(filename)"
      ],
      "metadata": {
        "id": "wF2IX-1bOmPe"
      },
      "execution_count": null,
      "outputs": []
    },
    {
      "cell_type": "code",
      "source": [
        "# show the first 5 lines from our dataset\n",
        "df_kids.head(5)"
      ],
      "metadata": {
        "id": "Wa5AK6YHPRk1",
        "colab": {
          "base_uri": "https://localhost:8080/",
          "height": 206
        },
        "outputId": "d54d798e-f86a-41ed-cda9-af0c4d8b7664"
      },
      "execution_count": null,
      "outputs": [
        {
          "output_type": "execute_result",
          "data": {
            "text/plain": [
              "   id  height  shoe size   age  gender  letters in name\n",
              "0   1     4.8         13  12.9       2                7\n",
              "1   2     4.8         10  13.4       1                8\n",
              "2   3     5.4          7  13.0       1                3\n",
              "3   4     4.7          4  13.0       1               11\n",
              "4   5     5.3          7  13.7       1                7"
            ],
            "text/html": [
              "\n",
              "  <div id=\"df-de899522-0482-4b8e-a9e6-65d6a6d6778f\" class=\"colab-df-container\">\n",
              "    <div>\n",
              "<style scoped>\n",
              "    .dataframe tbody tr th:only-of-type {\n",
              "        vertical-align: middle;\n",
              "    }\n",
              "\n",
              "    .dataframe tbody tr th {\n",
              "        vertical-align: top;\n",
              "    }\n",
              "\n",
              "    .dataframe thead th {\n",
              "        text-align: right;\n",
              "    }\n",
              "</style>\n",
              "<table border=\"1\" class=\"dataframe\">\n",
              "  <thead>\n",
              "    <tr style=\"text-align: right;\">\n",
              "      <th></th>\n",
              "      <th>id</th>\n",
              "      <th>height</th>\n",
              "      <th>shoe size</th>\n",
              "      <th>age</th>\n",
              "      <th>gender</th>\n",
              "      <th>letters in name</th>\n",
              "    </tr>\n",
              "  </thead>\n",
              "  <tbody>\n",
              "    <tr>\n",
              "      <th>0</th>\n",
              "      <td>1</td>\n",
              "      <td>4.8</td>\n",
              "      <td>13</td>\n",
              "      <td>12.9</td>\n",
              "      <td>2</td>\n",
              "      <td>7</td>\n",
              "    </tr>\n",
              "    <tr>\n",
              "      <th>1</th>\n",
              "      <td>2</td>\n",
              "      <td>4.8</td>\n",
              "      <td>10</td>\n",
              "      <td>13.4</td>\n",
              "      <td>1</td>\n",
              "      <td>8</td>\n",
              "    </tr>\n",
              "    <tr>\n",
              "      <th>2</th>\n",
              "      <td>3</td>\n",
              "      <td>5.4</td>\n",
              "      <td>7</td>\n",
              "      <td>13.0</td>\n",
              "      <td>1</td>\n",
              "      <td>3</td>\n",
              "    </tr>\n",
              "    <tr>\n",
              "      <th>3</th>\n",
              "      <td>4</td>\n",
              "      <td>4.7</td>\n",
              "      <td>4</td>\n",
              "      <td>13.0</td>\n",
              "      <td>1</td>\n",
              "      <td>11</td>\n",
              "    </tr>\n",
              "    <tr>\n",
              "      <th>4</th>\n",
              "      <td>5</td>\n",
              "      <td>5.3</td>\n",
              "      <td>7</td>\n",
              "      <td>13.7</td>\n",
              "      <td>1</td>\n",
              "      <td>7</td>\n",
              "    </tr>\n",
              "  </tbody>\n",
              "</table>\n",
              "</div>\n",
              "    <div class=\"colab-df-buttons\">\n",
              "\n",
              "  <div class=\"colab-df-container\">\n",
              "    <button class=\"colab-df-convert\" onclick=\"convertToInteractive('df-de899522-0482-4b8e-a9e6-65d6a6d6778f')\"\n",
              "            title=\"Convert this dataframe to an interactive table.\"\n",
              "            style=\"display:none;\">\n",
              "\n",
              "  <svg xmlns=\"http://www.w3.org/2000/svg\" height=\"24px\" viewBox=\"0 -960 960 960\">\n",
              "    <path d=\"M120-120v-720h720v720H120Zm60-500h600v-160H180v160Zm220 220h160v-160H400v160Zm0 220h160v-160H400v160ZM180-400h160v-160H180v160Zm440 0h160v-160H620v160ZM180-180h160v-160H180v160Zm440 0h160v-160H620v160Z\"/>\n",
              "  </svg>\n",
              "    </button>\n",
              "\n",
              "  <style>\n",
              "    .colab-df-container {\n",
              "      display:flex;\n",
              "      gap: 12px;\n",
              "    }\n",
              "\n",
              "    .colab-df-convert {\n",
              "      background-color: #E8F0FE;\n",
              "      border: none;\n",
              "      border-radius: 50%;\n",
              "      cursor: pointer;\n",
              "      display: none;\n",
              "      fill: #1967D2;\n",
              "      height: 32px;\n",
              "      padding: 0 0 0 0;\n",
              "      width: 32px;\n",
              "    }\n",
              "\n",
              "    .colab-df-convert:hover {\n",
              "      background-color: #E2EBFA;\n",
              "      box-shadow: 0px 1px 2px rgba(60, 64, 67, 0.3), 0px 1px 3px 1px rgba(60, 64, 67, 0.15);\n",
              "      fill: #174EA6;\n",
              "    }\n",
              "\n",
              "    .colab-df-buttons div {\n",
              "      margin-bottom: 4px;\n",
              "    }\n",
              "\n",
              "    [theme=dark] .colab-df-convert {\n",
              "      background-color: #3B4455;\n",
              "      fill: #D2E3FC;\n",
              "    }\n",
              "\n",
              "    [theme=dark] .colab-df-convert:hover {\n",
              "      background-color: #434B5C;\n",
              "      box-shadow: 0px 1px 3px 1px rgba(0, 0, 0, 0.15);\n",
              "      filter: drop-shadow(0px 1px 2px rgba(0, 0, 0, 0.3));\n",
              "      fill: #FFFFFF;\n",
              "    }\n",
              "  </style>\n",
              "\n",
              "    <script>\n",
              "      const buttonEl =\n",
              "        document.querySelector('#df-de899522-0482-4b8e-a9e6-65d6a6d6778f button.colab-df-convert');\n",
              "      buttonEl.style.display =\n",
              "        google.colab.kernel.accessAllowed ? 'block' : 'none';\n",
              "\n",
              "      async function convertToInteractive(key) {\n",
              "        const element = document.querySelector('#df-de899522-0482-4b8e-a9e6-65d6a6d6778f');\n",
              "        const dataTable =\n",
              "          await google.colab.kernel.invokeFunction('convertToInteractive',\n",
              "                                                    [key], {});\n",
              "        if (!dataTable) return;\n",
              "\n",
              "        const docLinkHtml = 'Like what you see? Visit the ' +\n",
              "          '<a target=\"_blank\" href=https://colab.research.google.com/notebooks/data_table.ipynb>data table notebook</a>'\n",
              "          + ' to learn more about interactive tables.';\n",
              "        element.innerHTML = '';\n",
              "        dataTable['output_type'] = 'display_data';\n",
              "        await google.colab.output.renderOutput(dataTable, element);\n",
              "        const docLink = document.createElement('div');\n",
              "        docLink.innerHTML = docLinkHtml;\n",
              "        element.appendChild(docLink);\n",
              "      }\n",
              "    </script>\n",
              "  </div>\n",
              "\n",
              "\n",
              "<div id=\"df-f64b0805-e3e3-4a9f-9a56-6f6949d45a20\">\n",
              "  <button class=\"colab-df-quickchart\" onclick=\"quickchart('df-f64b0805-e3e3-4a9f-9a56-6f6949d45a20')\"\n",
              "            title=\"Suggest charts.\"\n",
              "            style=\"display:none;\">\n",
              "\n",
              "<svg xmlns=\"http://www.w3.org/2000/svg\" height=\"24px\"viewBox=\"0 0 24 24\"\n",
              "     width=\"24px\">\n",
              "    <g>\n",
              "        <path d=\"M19 3H5c-1.1 0-2 .9-2 2v14c0 1.1.9 2 2 2h14c1.1 0 2-.9 2-2V5c0-1.1-.9-2-2-2zM9 17H7v-7h2v7zm4 0h-2V7h2v10zm4 0h-2v-4h2v4z\"/>\n",
              "    </g>\n",
              "</svg>\n",
              "  </button>\n",
              "\n",
              "<style>\n",
              "  .colab-df-quickchart {\n",
              "      --bg-color: #E8F0FE;\n",
              "      --fill-color: #1967D2;\n",
              "      --hover-bg-color: #E2EBFA;\n",
              "      --hover-fill-color: #174EA6;\n",
              "      --disabled-fill-color: #AAA;\n",
              "      --disabled-bg-color: #DDD;\n",
              "  }\n",
              "\n",
              "  [theme=dark] .colab-df-quickchart {\n",
              "      --bg-color: #3B4455;\n",
              "      --fill-color: #D2E3FC;\n",
              "      --hover-bg-color: #434B5C;\n",
              "      --hover-fill-color: #FFFFFF;\n",
              "      --disabled-bg-color: #3B4455;\n",
              "      --disabled-fill-color: #666;\n",
              "  }\n",
              "\n",
              "  .colab-df-quickchart {\n",
              "    background-color: var(--bg-color);\n",
              "    border: none;\n",
              "    border-radius: 50%;\n",
              "    cursor: pointer;\n",
              "    display: none;\n",
              "    fill: var(--fill-color);\n",
              "    height: 32px;\n",
              "    padding: 0;\n",
              "    width: 32px;\n",
              "  }\n",
              "\n",
              "  .colab-df-quickchart:hover {\n",
              "    background-color: var(--hover-bg-color);\n",
              "    box-shadow: 0 1px 2px rgba(60, 64, 67, 0.3), 0 1px 3px 1px rgba(60, 64, 67, 0.15);\n",
              "    fill: var(--button-hover-fill-color);\n",
              "  }\n",
              "\n",
              "  .colab-df-quickchart-complete:disabled,\n",
              "  .colab-df-quickchart-complete:disabled:hover {\n",
              "    background-color: var(--disabled-bg-color);\n",
              "    fill: var(--disabled-fill-color);\n",
              "    box-shadow: none;\n",
              "  }\n",
              "\n",
              "  .colab-df-spinner {\n",
              "    border: 2px solid var(--fill-color);\n",
              "    border-color: transparent;\n",
              "    border-bottom-color: var(--fill-color);\n",
              "    animation:\n",
              "      spin 1s steps(1) infinite;\n",
              "  }\n",
              "\n",
              "  @keyframes spin {\n",
              "    0% {\n",
              "      border-color: transparent;\n",
              "      border-bottom-color: var(--fill-color);\n",
              "      border-left-color: var(--fill-color);\n",
              "    }\n",
              "    20% {\n",
              "      border-color: transparent;\n",
              "      border-left-color: var(--fill-color);\n",
              "      border-top-color: var(--fill-color);\n",
              "    }\n",
              "    30% {\n",
              "      border-color: transparent;\n",
              "      border-left-color: var(--fill-color);\n",
              "      border-top-color: var(--fill-color);\n",
              "      border-right-color: var(--fill-color);\n",
              "    }\n",
              "    40% {\n",
              "      border-color: transparent;\n",
              "      border-right-color: var(--fill-color);\n",
              "      border-top-color: var(--fill-color);\n",
              "    }\n",
              "    60% {\n",
              "      border-color: transparent;\n",
              "      border-right-color: var(--fill-color);\n",
              "    }\n",
              "    80% {\n",
              "      border-color: transparent;\n",
              "      border-right-color: var(--fill-color);\n",
              "      border-bottom-color: var(--fill-color);\n",
              "    }\n",
              "    90% {\n",
              "      border-color: transparent;\n",
              "      border-bottom-color: var(--fill-color);\n",
              "    }\n",
              "  }\n",
              "</style>\n",
              "\n",
              "  <script>\n",
              "    async function quickchart(key) {\n",
              "      const quickchartButtonEl =\n",
              "        document.querySelector('#' + key + ' button');\n",
              "      quickchartButtonEl.disabled = true;  // To prevent multiple clicks.\n",
              "      quickchartButtonEl.classList.add('colab-df-spinner');\n",
              "      try {\n",
              "        const charts = await google.colab.kernel.invokeFunction(\n",
              "            'suggestCharts', [key], {});\n",
              "      } catch (error) {\n",
              "        console.error('Error during call to suggestCharts:', error);\n",
              "      }\n",
              "      quickchartButtonEl.classList.remove('colab-df-spinner');\n",
              "      quickchartButtonEl.classList.add('colab-df-quickchart-complete');\n",
              "    }\n",
              "    (() => {\n",
              "      let quickchartButtonEl =\n",
              "        document.querySelector('#df-f64b0805-e3e3-4a9f-9a56-6f6949d45a20 button');\n",
              "      quickchartButtonEl.style.display =\n",
              "        google.colab.kernel.accessAllowed ? 'block' : 'none';\n",
              "    })();\n",
              "  </script>\n",
              "</div>\n",
              "    </div>\n",
              "  </div>\n"
            ]
          },
          "metadata": {},
          "execution_count": 45
        }
      ]
    },
    {
      "cell_type": "code",
      "source": [
        "# inspect one of the variables\n",
        "df_kids['shoe size']"
      ],
      "metadata": {
        "colab": {
          "base_uri": "https://localhost:8080/"
        },
        "id": "RNgqv3J2tzih",
        "outputId": "a99d2974-e19c-412a-e339-25b0c7c2805c"
      },
      "execution_count": null,
      "outputs": [
        {
          "output_type": "execute_result",
          "data": {
            "text/plain": [
              "0     13\n",
              "1     10\n",
              "2      7\n",
              "3      4\n",
              "4      7\n",
              "5     11\n",
              "6     11\n",
              "7     11\n",
              "8     12\n",
              "9      9\n",
              "10     8\n",
              "11     7\n",
              "12     7\n",
              "13     4\n",
              "14     9\n",
              "15     8\n",
              "16    10\n",
              "17     9\n",
              "18     9\n",
              "19     8\n",
              "Name: shoe size, dtype: int64"
            ]
          },
          "metadata": {},
          "execution_count": 46
        }
      ]
    },
    {
      "cell_type": "markdown",
      "source": [
        "## Simple Visualizations"
      ],
      "metadata": {
        "id": "-su5U23CxKor"
      }
    }
  ]
}