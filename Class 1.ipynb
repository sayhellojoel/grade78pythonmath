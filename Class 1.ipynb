{
  "nbformat": 4,
  "nbformat_minor": 0,
  "metadata": {
    "colab": {
      "provenance": []
    },
    "kernelspec": {
      "name": "python3",
      "display_name": "Python 3"
    },
    "language_info": {
      "name": "python"
    }
  },
  "cells": [
    {
      "cell_type": "markdown",
      "source": [
        "# Class 1: Intro to Math Programming in Python"
      ],
      "metadata": {
        "id": "5EQmJ9dxw_9o"
      }
    },
    {
      "cell_type": "markdown",
      "source": [
        "## 1) Getting Started with Python\n",
        "Let's start with a brief introduction to Python.  \n",
        "This is called a Jupyter Notebook.  \n",
        "You can write in explanations in \"text\" boxes like this one."
      ],
      "metadata": {
        "id": "q0pmgZUzxRxS"
      }
    },
    {
      "cell_type": "code",
      "source": [
        "# you can also write \"comments\" with # signs in any block of code\n",
        "# this is a comment"
      ],
      "metadata": {
        "id": "2FNnJOHpxc61"
      },
      "execution_count": null,
      "outputs": []
    },
    {
      "cell_type": "markdown",
      "source": [
        "Larger explanations are written in text boxes like this and smaller, more specific comments are written in line with code for clarity."
      ],
      "metadata": {
        "id": "HEed8aXDxiB5"
      }
    },
    {
      "cell_type": "markdown",
      "source": [
        "### 1.1) Python Basics"
      ],
      "metadata": {
        "id": "19ZB-P08QEoq"
      }
    },
    {
      "cell_type": "code",
      "source": [
        "print('Hello world')"
      ],
      "metadata": {
        "id": "uW_hRCWdn5AX"
      },
      "execution_count": null,
      "outputs": []
    },
    {
      "cell_type": "code",
      "source": [
        "# simple calculation and printing\n",
        "print(1+1)"
      ],
      "metadata": {
        "id": "vUcowuQ2O3EO"
      },
      "execution_count": null,
      "outputs": []
    },
    {
      "cell_type": "code",
      "source": [
        "# multiplication uses an asterisk *\n",
        "print(5*5)"
      ],
      "metadata": {
        "id": "XKMK2yacQCez"
      },
      "execution_count": null,
      "outputs": []
    },
    {
      "cell_type": "code",
      "source": [
        "# division uses a slash /\n",
        "print(5/5)"
      ],
      "metadata": {
        "id": "cJgHiZvmQCz6"
      },
      "execution_count": null,
      "outputs": []
    },
    {
      "cell_type": "markdown",
      "source": [
        "#### ----- Exercise #1 -----\n",
        "Can you calculate what 10 minus 5 equals?"
      ],
      "metadata": {
        "id": "qCRg5sRUVWkE"
      }
    },
    {
      "cell_type": "code",
      "source": [
        "# calculate 10 minus 5 here\n",
        "\n",
        "\n",
        "\n"
      ],
      "metadata": {
        "id": "tASgT4HhVhSK"
      },
      "execution_count": null,
      "outputs": []
    },
    {
      "cell_type": "markdown",
      "source": [
        "We use an equals sign (=) when we want to <b><i>make something</i></b>."
      ],
      "metadata": {
        "id": "ZsrAGaguaVXd"
      }
    },
    {
      "cell_type": "code",
      "source": [
        "# we can do calculations in variables to store them for other usage\n",
        "x = 2*3\n",
        "print(x)"
      ],
      "metadata": {
        "id": "d8k3qfbkQC43"
      },
      "execution_count": null,
      "outputs": []
    },
    {
      "cell_type": "code",
      "source": [
        "the_variable_name_can_be_whatever_you_want = 'and you can store text in a variable by using quotes'\n",
        "# but a variable name can't have spaces in it"
      ],
      "metadata": {
        "id": "39cIZbwQkog_"
      },
      "execution_count": null,
      "outputs": []
    },
    {
      "cell_type": "markdown",
      "source": [
        "We can also run some code that depends on other code.  "
      ],
      "metadata": {
        "id": "77JEtx6UmNlM"
      }
    },
    {
      "cell_type": "code",
      "source": [
        "# exercise: Enter your name!\n",
        "name = ''"
      ],
      "metadata": {
        "id": "EJ9vlcMonOV1"
      },
      "execution_count": null,
      "outputs": []
    },
    {
      "cell_type": "markdown",
      "source": [
        "This is called an if statement. It checks if something is true and runs code depending on if it is true or not.  \n",
        "We use two equals signs (==) when we are <b><i>checking if</i></b> something \"is equal to\" something else.  "
      ],
      "metadata": {
        "id": "2XiJcfZdnfPl"
      }
    },
    {
      "cell_type": "code",
      "source": [
        "if name == 'Joel':\n",
        "  print('You are the teacher today')"
      ],
      "metadata": {
        "id": "-1TaONNzm5E6"
      },
      "execution_count": null,
      "outputs": []
    },
    {
      "cell_type": "markdown",
      "source": [
        "We can make our \"if statement\" into an \"if else statement\" by telling it what to do if the condition is not true."
      ],
      "metadata": {
        "id": "rBFxtYfanpuJ"
      }
    },
    {
      "cell_type": "code",
      "source": [
        "if name == 'Joel':\n",
        "  print('You are the teacher today')\n",
        "else:\n",
        "  print('You are special, but you are not the teacher')"
      ],
      "metadata": {
        "id": "nPcNrL2om5HD"
      },
      "execution_count": null,
      "outputs": []
    },
    {
      "cell_type": "code",
      "source": [
        "# this is a basic way to get inputs from the user\n",
        "your_name = input(\"What is your name? \")"
      ],
      "metadata": {
        "id": "VIwxYlyD0RIC"
      },
      "execution_count": null,
      "outputs": []
    },
    {
      "cell_type": "markdown",
      "source": [
        "### 1.2) Mini Programs\n",
        "Now let's make a mini calculator program."
      ],
      "metadata": {
        "id": "uS3dty1raACA"
      }
    },
    {
      "cell_type": "code",
      "source": [
        "# addition \"program\"\n",
        "a = input(\"First number: \")\n",
        "a = int(a) # Convert the string input to int\n",
        "b = input(\"Second number: \")\n",
        "b = int(b) # Convert the string input to int\n",
        "the_answer = a + b\n",
        "print(\"Answer:\", the_answer)"
      ],
      "metadata": {
        "id": "1_1mjLitm5I-"
      },
      "execution_count": null,
      "outputs": []
    },
    {
      "cell_type": "markdown",
      "source": [
        "#### ----- Exercise #2 -----\n",
        "Can you adapt this code to work with multiplication in the empty code block below?"
      ],
      "metadata": {
        "id": "k89XXLKnaETi"
      }
    },
    {
      "cell_type": "code",
      "source": [
        "# multiplication \"program\"\n",
        "\n",
        "\n",
        "\n",
        "\n"
      ],
      "metadata": {
        "id": "p_57chCLaDvy"
      },
      "execution_count": null,
      "outputs": []
    },
    {
      "cell_type": "markdown",
      "source": [
        "#### Functions"
      ],
      "metadata": {
        "id": "I-K_q0UBa_8e"
      }
    },
    {
      "cell_type": "code",
      "source": [
        "def your_function_name():\n",
        "  # this is the middle of the function\n",
        "  # random calculations inside the function\n",
        "  return 'I ran a function'\n",
        "\n",
        "print(your_function_name())"
      ],
      "metadata": {
        "id": "VBOq1qgh3OnS"
      },
      "execution_count": null,
      "outputs": []
    },
    {
      "cell_type": "markdown",
      "source": [
        "We can write the same \"program\" in the form of a function."
      ],
      "metadata": {
        "id": "7nCZ9D7B5A5E"
      }
    },
    {
      "cell_type": "code",
      "source": [
        "# create the function using \"def\"\n",
        "def add_two_numbers(a, b):\n",
        "  answer = a + b\n",
        "  return answer"
      ],
      "metadata": {
        "id": "9jreTGzlbKQE"
      },
      "execution_count": null,
      "outputs": []
    },
    {
      "cell_type": "code",
      "source": [
        "add_two_numbers(1,2)"
      ],
      "metadata": {
        "id": "xwleewdgbKTg"
      },
      "execution_count": null,
      "outputs": []
    },
    {
      "cell_type": "markdown",
      "source": [
        "#### ----- Exercise #3 ----- <i>(time permitting)</i>\n",
        "Can you adjust this function to work with multiplication in the empty code block below?"
      ],
      "metadata": {
        "id": "6uEjRCqDch6i"
      }
    },
    {
      "cell_type": "code",
      "source": [
        "# multiplication function\n",
        "\n",
        "\n"
      ],
      "metadata": {
        "id": "qbcZ6uPqcKs4"
      },
      "execution_count": null,
      "outputs": []
    },
    {
      "cell_type": "markdown",
      "source": [
        "### 1.3) Formula of a Line\n",
        "Remember that the equation for a line is: $y = mx + b$  \n",
        "$m$ is the slope and $b$ is the intercept.  \n",
        "Let's set the slope to 2 and the intercept to 1.  \n",
        "Now we can calculate the corresponding $y$ value for any value of $x$.  \n",
        "Feel free to change $x$ and see the result change."
      ],
      "metadata": {
        "id": "UCsTo8oFSmUD"
      }
    },
    {
      "cell_type": "code",
      "source": [
        "# now we calculate y when we have a given x\n",
        "m = 2\n",
        "b = 1\n",
        "x = 1\n",
        "\n",
        "y = m * x + b\n",
        "print(y)"
      ],
      "metadata": {
        "id": "Or70B7rQRGCy"
      },
      "execution_count": null,
      "outputs": []
    },
    {
      "cell_type": "markdown",
      "source": [
        "Here is an example where we do the same calculation for five values of x at the same time with something called a \"for loop\".  \n",
        "It calculates the first y value, then the second y value, then third, etc.  \n",
        "The slope, ${m}$, and intercept, ${b}$, stay the same as before because we didn't change them."
      ],
      "metadata": {
        "id": "Skwxy2DvT97C"
      }
    },
    {
      "cell_type": "code",
      "source": [
        "x_list = [1,2,3,4,5] # make a list of x values\n",
        "y_list = [] # initialize a list for putting corresponding y values\n",
        "\n",
        "# this for loop performs the same calculation for each value in the list\n",
        "for x in x_list:\n",
        "  y = m * x + b # calculate y value\n",
        "  y_list.append(y) # add the y value to the list\n",
        "\n",
        "print('x =', x_list)\n",
        "print('y =', y_list)"
      ],
      "metadata": {
        "id": "pmZnpEvqQC7h"
      },
      "execution_count": null,
      "outputs": []
    },
    {
      "cell_type": "markdown",
      "source": [
        "Now let's do the same thing with a huge list of a hundred million numbers.  \n",
        "But before we go huge, we first have to introduce something called an \"array\". An array is like a list, but it's easier for calculations. We need to import a package called numpy to make the array. NumPy stands for Numerical Computing in Python.  \n",
        "*An array is sometimes known as a vector*"
      ],
      "metadata": {
        "id": "Pc9vGl-iXAYT"
      }
    },
    {
      "cell_type": "code",
      "source": [
        "import numpy as np\n",
        "\n",
        "# Create an array\n",
        "x_array = np.arange(5)\n",
        "print(x_array)"
      ],
      "metadata": {
        "id": "N2tL7swIZNbx"
      },
      "execution_count": null,
      "outputs": []
    },
    {
      "cell_type": "markdown",
      "source": [
        "Now let's overwrite that array with a massive, 100 million number array."
      ],
      "metadata": {
        "id": "nSnevUZHk0H6"
      }
    },
    {
      "cell_type": "code",
      "source": [
        "# Create a longer array\n",
        "x_array = np.arange(100000000)\n",
        "print(x_array)"
      ],
      "metadata": {
        "id": "pvthFbyJZh6b"
      },
      "execution_count": null,
      "outputs": []
    },
    {
      "cell_type": "markdown",
      "source": [
        "Ok now that we have our array of numbers, we can calculate the y values for each of them."
      ],
      "metadata": {
        "id": "XrznneCUYG6q"
      }
    },
    {
      "cell_type": "code",
      "source": [
        "# calculate for y_array all at once\n",
        "y_array = m * x_array + b\n",
        "print(y_array)"
      ],
      "metadata": {
        "id": "Tit8Q9rKQC-X"
      },
      "execution_count": null,
      "outputs": []
    },
    {
      "cell_type": "markdown",
      "source": [
        "### 1.4) Intro to Plotting\n",
        "Let's plot our line. But to make it easier to see, let's reduce it to 5 points."
      ],
      "metadata": {
        "id": "mnoP7UPelMOq"
      }
    },
    {
      "cell_type": "code",
      "source": [
        "import matplotlib.pyplot as plt # import new package for plotting"
      ],
      "metadata": {
        "id": "-1TurvkbpHim"
      },
      "execution_count": null,
      "outputs": []
    },
    {
      "cell_type": "code",
      "source": [
        "x_array = np.arange(5)\n",
        "y_array = m * x_array + b\n",
        "\n",
        "# plot\n",
        "plt.scatter(x_array, y_array) # this part tells is what arrays to plot with"
      ],
      "metadata": {
        "id": "hBQK7KTKlBqq"
      },
      "execution_count": null,
      "outputs": []
    },
    {
      "cell_type": "markdown",
      "source": [
        "## 1.5) Reading in Dataset (aka Dataframe) to Plot\n",
        "Now let's check out an anonymous dataset of your classmates.  \n",
        "Pandas is a package for working with dataframes, aka datasets.  \n",
        "Matplotlib is a package for visualizing data.  \n",
        "The \"as pd\" part of the code above means that we give it a shortcut so we can reference the package as \"pd\" from now on."
      ],
      "metadata": {
        "id": "kZSiYc1tw8Qr"
      }
    },
    {
      "cell_type": "code",
      "execution_count": null,
      "metadata": {
        "id": "GBh1vlhtzIGa"
      },
      "outputs": [],
      "source": [
        "# we need to import packages to be able to work with them\n",
        "import pandas as pd"
      ]
    },
    {
      "cell_type": "code",
      "source": [
        "# read in our dataset\n",
        "filename = 'https://raw.githubusercontent.com/sayhellojoel/grade78pythonmath/main/Data/kids%20anonymous%20data.csv'\n",
        "df = pd.read_csv(filename)"
      ],
      "metadata": {
        "id": "wF2IX-1bOmPe"
      },
      "execution_count": null,
      "outputs": []
    },
    {
      "cell_type": "code",
      "source": [
        "# show the first 5 lines from our dataset\n",
        "df.head(5)"
      ],
      "metadata": {
        "id": "Wa5AK6YHPRk1"
      },
      "execution_count": null,
      "outputs": []
    },
    {
      "cell_type": "code",
      "source": [
        "# inspect one of the variables\n",
        "df['Age Decimal']"
      ],
      "metadata": {
        "id": "RNgqv3J2tzih"
      },
      "execution_count": null,
      "outputs": []
    },
    {
      "cell_type": "markdown",
      "source": [
        "## 1.6) Simple Visualizations\n",
        "There is continuous data, like how tall you are.  \n",
        "There is also categorical data, like what colour eyes you have."
      ],
      "metadata": {
        "id": "-su5U23CxKor"
      }
    },
    {
      "cell_type": "code",
      "source": [
        "# let's make a histogram of shoe size\n",
        "plt.hist(df['Age Decimal'])\n",
        "plt.title('Histogram of Age')"
      ],
      "metadata": {
        "id": "b0pV7MZsruyS"
      },
      "execution_count": null,
      "outputs": []
    },
    {
      "cell_type": "code",
      "source": [
        "# now let's make a pie chart of gender\n",
        "plt.pie(df['EYE COLOUR'].value_counts())\n",
        "plt.title('Eye Colour Distribution')"
      ],
      "metadata": {
        "id": "-rxmmcdPuFD-"
      },
      "execution_count": null,
      "outputs": []
    },
    {
      "cell_type": "code",
      "source": [
        "df['EYE COLOUR'].value_counts()"
      ],
      "metadata": {
        "id": "UDVQODZW09Pf"
      },
      "execution_count": null,
      "outputs": []
    },
    {
      "cell_type": "code",
      "source": [
        "# adding labels to our pie chart\n",
        "plt.pie(df['EYE COLOUR'].value_counts(), labels=['Brown', 'Blue', 'Green'])\n",
        "plt.title('Eye Colour Distribution')\n",
        "plt.show()"
      ],
      "metadata": {
        "id": "dYD-61rQuE2N"
      },
      "execution_count": null,
      "outputs": []
    },
    {
      "cell_type": "markdown",
      "source": [
        "#### ----- Exercise #4 ----- <i>(time permitting)</i>\n",
        "Can you make a new plot using another variable in the dataset?"
      ],
      "metadata": {
        "id": "9yGN2xEyx1O6"
      }
    },
    {
      "cell_type": "code",
      "source": [
        "# new plot\n",
        "\n",
        "\n",
        "\n",
        "\n",
        "\n"
      ],
      "metadata": {
        "id": "1pW1LFGixyOE"
      },
      "execution_count": null,
      "outputs": []
    }
  ]
}