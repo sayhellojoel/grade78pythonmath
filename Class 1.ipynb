{
  "nbformat": 4,
  "nbformat_minor": 0,
  "metadata": {
    "colab": {
      "provenance": []
    },
    "kernelspec": {
      "name": "python3",
      "display_name": "Python 3"
    },
    "language_info": {
      "name": "python"
    }
  },
  "cells": [
    {
      "cell_type": "markdown",
      "source": [
        "# Class 1: Intro to Math Programming in Python"
      ],
      "metadata": {
        "id": "5EQmJ9dxw_9o"
      }
    },
    {
      "cell_type": "markdown",
      "source": [
        "## 1) Getting Started with Python\n",
        "Let's start with a brief introduction to Python.  \n",
        "This is called a Jupyter Notebook.  \n",
        "You can write in explanations in \"text\" boxes like this one."
      ],
      "metadata": {
        "id": "q0pmgZUzxRxS"
      }
    },
    {
      "cell_type": "code",
      "source": [
        "# you can also write \"comments\" with # signs in any block of code\n",
        "# this is a comment"
      ],
      "metadata": {
        "id": "2FNnJOHpxc61"
      },
      "execution_count": 1,
      "outputs": []
    },
    {
      "cell_type": "markdown",
      "source": [
        "Larger explanations are written in text boxes like this and smaller, more specific comments are written in line with code for clarity."
      ],
      "metadata": {
        "id": "HEed8aXDxiB5"
      }
    },
    {
      "cell_type": "markdown",
      "source": [
        "### 1.1) Python Basics"
      ],
      "metadata": {
        "id": "19ZB-P08QEoq"
      }
    },
    {
      "cell_type": "code",
      "source": [
        "print('Hello world')"
      ],
      "metadata": {
        "colab": {
          "base_uri": "https://localhost:8080/"
        },
        "id": "uW_hRCWdn5AX",
        "outputId": "0ce209dd-97ed-47d1-ae02-cea8cae8f11b"
      },
      "execution_count": 2,
      "outputs": [
        {
          "output_type": "stream",
          "name": "stdout",
          "text": [
            "Hello world\n"
          ]
        }
      ]
    },
    {
      "cell_type": "code",
      "source": [
        "# simple calculation and printing\n",
        "print(1+1)"
      ],
      "metadata": {
        "colab": {
          "base_uri": "https://localhost:8080/"
        },
        "id": "vUcowuQ2O3EO",
        "outputId": "887ec345-0489-4017-b9d0-750adc8f9aac"
      },
      "execution_count": 3,
      "outputs": [
        {
          "output_type": "stream",
          "name": "stdout",
          "text": [
            "2\n"
          ]
        }
      ]
    },
    {
      "cell_type": "code",
      "source": [
        "# multiplication uses an asterisk *\n",
        "print(5*5)"
      ],
      "metadata": {
        "colab": {
          "base_uri": "https://localhost:8080/"
        },
        "id": "XKMK2yacQCez",
        "outputId": "d9377ed4-564b-44c8-a77e-ec3a351bac2f"
      },
      "execution_count": 4,
      "outputs": [
        {
          "output_type": "stream",
          "name": "stdout",
          "text": [
            "25\n"
          ]
        }
      ]
    },
    {
      "cell_type": "code",
      "source": [
        "# division uses a slash /\n",
        "print(5/5)"
      ],
      "metadata": {
        "colab": {
          "base_uri": "https://localhost:8080/"
        },
        "id": "cJgHiZvmQCz6",
        "outputId": "44d52000-bf48-4de7-90cd-5ac93b47f7c9"
      },
      "execution_count": 5,
      "outputs": [
        {
          "output_type": "stream",
          "name": "stdout",
          "text": [
            "1.0\n"
          ]
        }
      ]
    },
    {
      "cell_type": "code",
      "source": [
        "# we can do calculations in variables to store them for other usage\n",
        "x = 2*3\n",
        "print(x)"
      ],
      "metadata": {
        "colab": {
          "base_uri": "https://localhost:8080/"
        },
        "id": "d8k3qfbkQC43",
        "outputId": "9acad072-043c-4318-918a-87f8bced3dd9"
      },
      "execution_count": 6,
      "outputs": [
        {
          "output_type": "stream",
          "name": "stdout",
          "text": [
            "6\n"
          ]
        }
      ]
    },
    {
      "cell_type": "code",
      "source": [
        "the_variable_name_can_be_whatever_you_want = 'and you can store text in a variable by using quotes'"
      ],
      "metadata": {
        "id": "39cIZbwQkog_"
      },
      "execution_count": 7,
      "outputs": []
    },
    {
      "cell_type": "markdown",
      "source": [
        "We can also run some code that depends on other code.  "
      ],
      "metadata": {
        "id": "77JEtx6UmNlM"
      }
    },
    {
      "cell_type": "code",
      "source": [
        "# exercise: Enter your name!\n",
        "name = 'Finley'"
      ],
      "metadata": {
        "id": "EJ9vlcMonOV1"
      },
      "execution_count": 8,
      "outputs": []
    },
    {
      "cell_type": "markdown",
      "source": [
        "This is called an if statement. It checks if something is true and runs code depending on if it is true or not.  \n",
        "We use a single equals sign (=) when we want to <b><i>make something</i></b> equal to something else.  \n",
        "We use two equals signs (==) when we are <b><i>checking if</i></b> something \"is equal to\" something else.  "
      ],
      "metadata": {
        "id": "2XiJcfZdnfPl"
      }
    },
    {
      "cell_type": "code",
      "source": [
        "if name == 'Joel':\n",
        "  print('You are the teacher today')"
      ],
      "metadata": {
        "id": "-1TaONNzm5E6"
      },
      "execution_count": 9,
      "outputs": []
    },
    {
      "cell_type": "markdown",
      "source": [
        "We can make our \"if statement\" into an \"if else statement\" by telling it what to do if the condition is not true."
      ],
      "metadata": {
        "id": "rBFxtYfanpuJ"
      }
    },
    {
      "cell_type": "code",
      "source": [
        "if name == 'Joel':\n",
        "  print('You are the teacher today')\n",
        "else:\n",
        "  print('You are special, but you are not the teacher')"
      ],
      "metadata": {
        "colab": {
          "base_uri": "https://localhost:8080/"
        },
        "id": "nPcNrL2om5HD",
        "outputId": "ba4142cd-52c0-45a4-f2eb-f0ad9401fc6d"
      },
      "execution_count": 10,
      "outputs": [
        {
          "output_type": "stream",
          "name": "stdout",
          "text": [
            "You are special, but you are not the teacher\n"
          ]
        }
      ]
    },
    {
      "cell_type": "code",
      "source": [
        "# this is a basic way to get inputs from the user\n",
        "your_name = input(\"What is your name? \")"
      ],
      "metadata": {
        "id": "VIwxYlyD0RIC",
        "outputId": "f026da91-e9bb-44d0-9b54-b3fe82586172",
        "colab": {
          "base_uri": "https://localhost:8080/"
        }
      },
      "execution_count": 11,
      "outputs": [
        {
          "name": "stdout",
          "output_type": "stream",
          "text": [
            "What is your name? Joel\n"
          ]
        }
      ]
    },
    {
      "cell_type": "code",
      "source": [
        "# let's consider the type of data each variable is\n",
        "type('a name')"
      ],
      "metadata": {
        "id": "JeY9wgN30p2r",
        "outputId": "39a38ba0-5968-42fc-8f01-91f61959fe36",
        "colab": {
          "base_uri": "https://localhost:8080/"
        }
      },
      "execution_count": 12,
      "outputs": [
        {
          "output_type": "execute_result",
          "data": {
            "text/plain": [
              "str"
            ]
          },
          "metadata": {},
          "execution_count": 12
        }
      ]
    },
    {
      "cell_type": "code",
      "source": [
        "type(1)"
      ],
      "metadata": {
        "id": "b-6nNeDv0070",
        "outputId": "844aad23-1442-4432-d26f-1c579b88b881",
        "colab": {
          "base_uri": "https://localhost:8080/"
        }
      },
      "execution_count": 13,
      "outputs": [
        {
          "output_type": "execute_result",
          "data": {
            "text/plain": [
              "int"
            ]
          },
          "metadata": {},
          "execution_count": 13
        }
      ]
    },
    {
      "cell_type": "code",
      "source": [
        "type(0.1)"
      ],
      "metadata": {
        "id": "yY0G26e81GsL",
        "outputId": "7bb829d3-11b4-488a-c466-fcd8ad7014b5",
        "colab": {
          "base_uri": "https://localhost:8080/"
        }
      },
      "execution_count": 14,
      "outputs": [
        {
          "output_type": "execute_result",
          "data": {
            "text/plain": [
              "float"
            ]
          },
          "metadata": {},
          "execution_count": 14
        }
      ]
    },
    {
      "cell_type": "markdown",
      "source": [
        "### 1.2) Mini Programs\n",
        "Now let's make a mini calculator program."
      ],
      "metadata": {
        "id": "uS3dty1raACA"
      }
    },
    {
      "cell_type": "code",
      "source": [
        "# addition \"program\"\n",
        "a = input(\"First number: \")\n",
        "a = int(a) # Convert the string input to int\n",
        "b = input(\"Second number: \")\n",
        "b = int(b) # Convert the string input to int\n",
        "the_answer = a + b\n",
        "print(\"Answer:\", the_answer)"
      ],
      "metadata": {
        "colab": {
          "base_uri": "https://localhost:8080/"
        },
        "id": "1_1mjLitm5I-",
        "outputId": "a7e64b58-4400-488e-da45-5e3d9be949dc"
      },
      "execution_count": 15,
      "outputs": [
        {
          "output_type": "stream",
          "name": "stdout",
          "text": [
            "First number: 1\n",
            "Second number: 3\n",
            "Answer: 4\n"
          ]
        }
      ]
    },
    {
      "cell_type": "markdown",
      "source": [
        "#### EXERCISE #1\n",
        "Can you adapt this code to work with multiplication in the empty code block below?"
      ],
      "metadata": {
        "id": "k89XXLKnaETi"
      }
    },
    {
      "cell_type": "code",
      "source": [
        "# multiplication \"program\"\n",
        "\n",
        "\n",
        "\n",
        "\n"
      ],
      "metadata": {
        "id": "p_57chCLaDvy"
      },
      "execution_count": 16,
      "outputs": []
    },
    {
      "cell_type": "markdown",
      "source": [
        "#### Functions"
      ],
      "metadata": {
        "id": "I-K_q0UBa_8e"
      }
    },
    {
      "cell_type": "code",
      "source": [
        "def your_function_name():\n",
        "  # this is the middle of the function\n",
        "  # random calculations inside the function\n",
        "  return 'I ran a function'\n",
        "\n",
        "print(your_function_name())"
      ],
      "metadata": {
        "id": "VBOq1qgh3OnS",
        "outputId": "6f89984f-9768-48e3-b270-986f4a925665",
        "colab": {
          "base_uri": "https://localhost:8080/"
        }
      },
      "execution_count": 17,
      "outputs": [
        {
          "output_type": "stream",
          "name": "stdout",
          "text": [
            "I ran a function\n"
          ]
        }
      ]
    },
    {
      "cell_type": "markdown",
      "source": [
        "We can write the same \"program\" in the form of a function."
      ],
      "metadata": {
        "id": "7nCZ9D7B5A5E"
      }
    },
    {
      "cell_type": "code",
      "source": [
        "# create the function using \"def\"\n",
        "def add_two_numbers(a, b):\n",
        "  answer = a + b\n",
        "  return answer"
      ],
      "metadata": {
        "id": "9jreTGzlbKQE"
      },
      "execution_count": 18,
      "outputs": []
    },
    {
      "cell_type": "code",
      "source": [
        "add_two_numbers(1,2)"
      ],
      "metadata": {
        "colab": {
          "base_uri": "https://localhost:8080/"
        },
        "id": "xwleewdgbKTg",
        "outputId": "9d5f8041-2386-400f-876b-64c54028a3c1"
      },
      "execution_count": 19,
      "outputs": [
        {
          "output_type": "execute_result",
          "data": {
            "text/plain": [
              "3"
            ]
          },
          "metadata": {},
          "execution_count": 19
        }
      ]
    },
    {
      "cell_type": "markdown",
      "source": [
        "#### EXERCISE #2 (optional)\n",
        "Can you adjust this function to work with multiplication in the empty code block below?"
      ],
      "metadata": {
        "id": "6uEjRCqDch6i"
      }
    },
    {
      "cell_type": "code",
      "source": [
        "# multiplication function\n",
        "\n",
        "\n"
      ],
      "metadata": {
        "id": "qbcZ6uPqcKs4"
      },
      "execution_count": 20,
      "outputs": []
    },
    {
      "cell_type": "markdown",
      "source": [
        "### 1.3) Formula of a Line\n",
        "Remember that the equation for a line is: $y = \\text{slope} \\times x + \\text{intercept}$  OR  $y = \\text{m}x + \\text{b}$  \n",
        "Let's set the slope to 2 and the intercept to 1.  \n",
        "Now we can calculate the corresponding y value."
      ],
      "metadata": {
        "id": "UCsTo8oFSmUD"
      }
    },
    {
      "cell_type": "code",
      "source": [
        "# now we calculate y when we have a given x\n",
        "m = 2\n",
        "b = 1\n",
        "x = 1\n",
        "\n",
        "y = m * x + b\n",
        "y"
      ],
      "metadata": {
        "colab": {
          "base_uri": "https://localhost:8080/"
        },
        "id": "Or70B7rQRGCy",
        "outputId": "63228bb8-a3d5-43e6-9f1e-60fcdd7c20e1"
      },
      "execution_count": 21,
      "outputs": [
        {
          "output_type": "execute_result",
          "data": {
            "text/plain": [
              "3"
            ]
          },
          "metadata": {},
          "execution_count": 21
        }
      ]
    },
    {
      "cell_type": "markdown",
      "source": [
        "Here is an example where we do the same calculation for five values of x at the same time with something called a \"for loop\".  \n",
        "It calculates the first y value, then the second y value, then third, etc.  \n",
        "The slope, ${m}$, and intercept, ${b}$, stay the same as before because we didn't change them."
      ],
      "metadata": {
        "id": "Skwxy2DvT97C"
      }
    },
    {
      "cell_type": "code",
      "source": [
        "x_list = [1,2,3,4,5] # make a list of x values\n",
        "y_list = [] # initialize a list for putting corresponding y values\n",
        "\n",
        "# this for loop performs the same calculation for each value in the list\n",
        "for x in x_list:\n",
        "  y = m * x + b # calculate y value\n",
        "  y_list.append(y) # add the y value to the list\n",
        "\n",
        "print('x =', x_list)\n",
        "print('y =', y_list)"
      ],
      "metadata": {
        "colab": {
          "base_uri": "https://localhost:8080/"
        },
        "id": "pmZnpEvqQC7h",
        "outputId": "bed4b372-46ce-4066-c356-cd0851b66a11"
      },
      "execution_count": 22,
      "outputs": [
        {
          "output_type": "stream",
          "name": "stdout",
          "text": [
            "x = [1, 2, 3, 4, 5]\n",
            "y = [3, 5, 7, 9, 11]\n"
          ]
        }
      ]
    },
    {
      "cell_type": "markdown",
      "source": [
        "Now let's do the same thing with a huge list of a hundred million numbers.  \n",
        "But before we go huge, we first have to introduce something called an \"array\". An array is like a list, but it's easier for calculations. We need to import a package called numpy to make the array. NumPy stands for Numerical Computing in Python.  \n",
        "*An array is sometimes known as a vector*"
      ],
      "metadata": {
        "id": "Pc9vGl-iXAYT"
      }
    },
    {
      "cell_type": "code",
      "source": [
        "import numpy as np\n",
        "\n",
        "# Create an array\n",
        "x_array = np.arange(5)\n",
        "x_array"
      ],
      "metadata": {
        "colab": {
          "base_uri": "https://localhost:8080/"
        },
        "id": "N2tL7swIZNbx",
        "outputId": "0d0c2d02-e524-44a9-8714-9c8fe00ef700"
      },
      "execution_count": 23,
      "outputs": [
        {
          "output_type": "execute_result",
          "data": {
            "text/plain": [
              "array([0, 1, 2, 3, 4])"
            ]
          },
          "metadata": {},
          "execution_count": 23
        }
      ]
    },
    {
      "cell_type": "markdown",
      "source": [
        "Now let's overwrite that array with a massive, 100 million number array."
      ],
      "metadata": {
        "id": "nSnevUZHk0H6"
      }
    },
    {
      "cell_type": "code",
      "source": [
        "# Create a longer array\n",
        "x_array = np.arange(100000000)\n",
        "x_array"
      ],
      "metadata": {
        "colab": {
          "base_uri": "https://localhost:8080/"
        },
        "id": "pvthFbyJZh6b",
        "outputId": "18ff739b-32f3-4976-a421-a759516cf84a"
      },
      "execution_count": 36,
      "outputs": [
        {
          "output_type": "execute_result",
          "data": {
            "text/plain": [
              "array([       0,        1,        2, ..., 99999997, 99999998, 99999999])"
            ]
          },
          "metadata": {},
          "execution_count": 36
        }
      ]
    },
    {
      "cell_type": "markdown",
      "source": [
        "Ok now that we have our array of numbers, we can calculate the y values for each of them."
      ],
      "metadata": {
        "id": "XrznneCUYG6q"
      }
    },
    {
      "cell_type": "code",
      "source": [
        "# calculate for y_array all at once\n",
        "y_array = m * x_array + b\n",
        "print(y_array)"
      ],
      "metadata": {
        "colab": {
          "base_uri": "https://localhost:8080/"
        },
        "id": "Tit8Q9rKQC-X",
        "outputId": "4c634f58-4cac-4973-bbb1-779169fa29fe"
      },
      "execution_count": 37,
      "outputs": [
        {
          "output_type": "stream",
          "name": "stdout",
          "text": [
            "[        1         3         5 ... 199999995 199999997 199999999]\n"
          ]
        }
      ]
    },
    {
      "cell_type": "markdown",
      "source": [
        "### 1.4) Intro to Plotting\n",
        "Let's plot our line. But to make it easier to see, let's reduce it to 5 points."
      ],
      "metadata": {
        "id": "mnoP7UPelMOq"
      }
    },
    {
      "cell_type": "code",
      "source": [
        "import matplotlib.pyplot as plt # import new package for plotting"
      ],
      "metadata": {
        "id": "-1TurvkbpHim"
      },
      "execution_count": 38,
      "outputs": []
    },
    {
      "cell_type": "code",
      "source": [
        "x_array = np.arange(5)\n",
        "y_array = m * x_array + b\n",
        "\n",
        "# plot\n",
        "plt.scatter(x_array, y_array) # this part tells is what arrays to plot with"
      ],
      "metadata": {
        "colab": {
          "base_uri": "https://localhost:8080/",
          "height": 447
        },
        "id": "hBQK7KTKlBqq",
        "outputId": "97d970ac-415b-4cb0-deb4-608c06ec4ff0"
      },
      "execution_count": 39,
      "outputs": [
        {
          "output_type": "execute_result",
          "data": {
            "text/plain": [
              "<matplotlib.collections.PathCollection at 0x7d90310a2080>"
            ]
          },
          "metadata": {},
          "execution_count": 39
        },
        {
          "output_type": "display_data",
          "data": {
            "text/plain": [
              "<Figure size 640x480 with 1 Axes>"
            ],
            "image/png": "[encoded data removed]"
          },
          "metadata": {}
        }
      ]
    },
    {
      "cell_type": "markdown",
      "source": [
        "## 1.5) Reading in Dataset (aka Dataframe) to Plot\n",
        "Now let's check out an anonymous dataset of your classmates.  \n",
        "Pandas is a package for working with dataframes, aka datasets.  \n",
        "Matplotlib is a package for visualizing data.  \n",
        "The \"as pd\" part of the code above means that we give it a shortcut so we can reference the package as \"pd\" from now on."
      ],
      "metadata": {
        "id": "kZSiYc1tw8Qr"
      }
    },
    {
      "cell_type": "code",
      "execution_count": 40,
      "metadata": {
        "id": "GBh1vlhtzIGa"
      },
      "outputs": [],
      "source": [
        "# we need to import packages to be able to work with them\n",
        "import pandas as pd"
      ]
    },
    {
      "cell_type": "code",
      "source": [
        "# read in our dataset\n",
        "filename = 'https://raw.githubusercontent.com/sayhellojoel/grade78pythonmath/af67a80a763a8daab05d51d9dc37bef15a9b661b/Data/kids%20anonymous%20data.csv'\n",
        "df = pd.read_csv(filename)"
      ],
      "metadata": {
        "id": "wF2IX-1bOmPe"
      },
      "execution_count": 41,
      "outputs": []
    },
    {
      "cell_type": "code",
      "source": [
        "# show the first 5 lines from our dataset\n",
        "df.head(5)"
      ],
      "metadata": {
        "id": "Wa5AK6YHPRk1",
        "colab": {
          "base_uri": "https://localhost:8080/",
          "height": 206
        },
        "outputId": "e5d48778-6615-4d43-fb8f-851fe9c3cc36"
      },
      "execution_count": 42,
      "outputs": [
        {
          "output_type": "execute_result",
          "data": {
            "text/plain": [
              "   id  height  shoe size   age  gender  letters in name\n",
              "0   1     4.8         13  12.9       2                7\n",
              "1   2     4.8         10  13.4       1                8\n",
              "2   3     5.4          7  13.0       1                3\n",
              "3   4     4.7          4  13.0       1               11\n",
              "4   5     5.3          7  13.7       1                7"
            ],
            "text/html": [
              "\n",
              "  <div id=\"df-9e5bc650-be7d-45e9-b144-f66bd36dbe64\" class=\"colab-df-container\">\n",
              "    <div>\n",
              "<style scoped>\n",
              "    .dataframe tbody tr th:only-of-type {\n",
              "        vertical-align: middle;\n",
              "    }\n",
              "\n",
              "    .dataframe tbody tr th {\n",
              "        vertical-align: top;\n",
              "    }\n",
              "\n",
              "    .dataframe thead th {\n",
              "        text-align: right;\n",
              "    }\n",
              "</style>\n",
              "<table border=\"1\" class=\"dataframe\">\n",
              "  <thead>\n",
              "    <tr style=\"text-align: right;\">\n",
              "      <th></th>\n",
              "      <th>id</th>\n",
              "      <th>height</th>\n",
              "      <th>shoe size</th>\n",
              "      <th>age</th>\n",
              "      <th>gender</th>\n",
              "      <th>letters in name</th>\n",
              "    </tr>\n",
              "  </thead>\n",
              "  <tbody>\n",
              "    <tr>\n",
              "      <th>0</th>\n",
              "      <td>1</td>\n",
              "      <td>4.8</td>\n",
              "      <td>13</td>\n",
              "      <td>12.9</td>\n",
              "      <td>2</td>\n",
              "      <td>7</td>\n",
              "    </tr>\n",
              "    <tr>\n",
              "      <th>1</th>\n",
              "      <td>2</td>\n",
              "      <td>4.8</td>\n",
              "      <td>10</td>\n",
              "      <td>13.4</td>\n",
              "      <td>1</td>\n",
              "      <td>8</td>\n",
              "    </tr>\n",
              "    <tr>\n",
              "      <th>2</th>\n",
              "      <td>3</td>\n",
              "      <td>5.4</td>\n",
              "      <td>7</td>\n",
              "      <td>13.0</td>\n",
              "      <td>1</td>\n",
              "      <td>3</td>\n",
              "    </tr>\n",
              "    <tr>\n",
              "      <th>3</th>\n",
              "      <td>4</td>\n",
              "      <td>4.7</td>\n",
              "      <td>4</td>\n",
              "      <td>13.0</td>\n",
              "      <td>1</td>\n",
              "      <td>11</td>\n",
              "    </tr>\n",
              "    <tr>\n",
              "      <th>4</th>\n",
              "      <td>5</td>\n",
              "      <td>5.3</td>\n",
              "      <td>7</td>\n",
              "      <td>13.7</td>\n",
              "      <td>1</td>\n",
              "      <td>7</td>\n",
              "    </tr>\n",
              "  </tbody>\n",
              "</table>\n",
              "</div>\n",
              "    <div class=\"colab-df-buttons\">\n",
              "\n",
              "  <div class=\"colab-df-container\">\n",
              "    <button class=\"colab-df-convert\" onclick=\"convertToInteractive('df-9e5bc650-be7d-45e9-b144-f66bd36dbe64')\"\n",
              "            title=\"Convert this dataframe to an interactive table.\"\n",
              "            style=\"display:none;\">\n",
              "\n",
              "  <svg xmlns=\"http://www.w3.org/2000/svg\" height=\"24px\" viewBox=\"0 -960 960 960\">\n",
              "    <path d=\"M120-120v-720h720v720H120Zm60-500h600v-160H180v160Zm220 220h160v-160H400v160Zm0 220h160v-160H400v160ZM180-400h160v-160H180v160Zm440 0h160v-160H620v160ZM180-180h160v-160H180v160Zm440 0h160v-160H620v160Z\"/>\n",
              "  </svg>\n",
              "    </button>\n",
              "\n",
              "  <style>\n",
              "    .colab-df-container {\n",
              "      display:flex;\n",
              "      gap: 12px;\n",
              "    }\n",
              "\n",
              "    .colab-df-convert {\n",
              "      background-color: #E8F0FE;\n",
              "      border: none;\n",
              "      border-radius: 50%;\n",
              "      cursor: pointer;\n",
              "      display: none;\n",
              "      fill: #1967D2;\n",
              "      height: 32px;\n",
              "      padding: 0 0 0 0;\n",
              "      width: 32px;\n",
              "    }\n",
              "\n",
              "    .colab-df-convert:hover {\n",
              "      background-color: #E2EBFA;\n",
              "      box-shadow: 0px 1px 2px rgba(60, 64, 67, 0.3), 0px 1px 3px 1px rgba(60, 64, 67, 0.15);\n",
              "      fill: #174EA6;\n",
              "    }\n",
              "\n",
              "    .colab-df-buttons div {\n",
              "      margin-bottom: 4px;\n",
              "    }\n",
              "\n",
              "    [theme=dark] .colab-df-convert {\n",
              "      background-color: #3B4455;\n",
              "      fill: #D2E3FC;\n",
              "    }\n",
              "\n",
              "    [theme=dark] .colab-df-convert:hover {\n",
              "      background-color: #434B5C;\n",
              "      box-shadow: 0px 1px 3px 1px rgba(0, 0, 0, 0.15);\n",
              "      filter: drop-shadow(0px 1px 2px rgba(0, 0, 0, 0.3));\n",
              "      fill: #FFFFFF;\n",
              "    }\n",
              "  </style>\n",
              "\n",
              "    <script>\n",
              "      const buttonEl =\n",
              "        document.querySelector('#df-9e5bc650-be7d-45e9-b144-f66bd36dbe64 button.colab-df-convert');\n",
              "      buttonEl.style.display =\n",
              "        google.colab.kernel.accessAllowed ? 'block' : 'none';\n",
              "\n",
              "      async function convertToInteractive(key) {\n",
              "        const element = document.querySelector('#df-9e5bc650-be7d-45e9-b144-f66bd36dbe64');\n",
              "        const dataTable =\n",
              "          await google.colab.kernel.invokeFunction('convertToInteractive',\n",
              "                                                    [key], {});\n",
              "        if (!dataTable) return;\n",
              "\n",
              "        const docLinkHtml = 'Like what you see? Visit the ' +\n",
              "          '<a target=\"_blank\" href=https://colab.research.google.com/notebooks/data_table.ipynb>data table notebook</a>'\n",
              "          + ' to learn more about interactive tables.';\n",
              "        element.innerHTML = '';\n",
              "        dataTable['output_type'] = 'display_data';\n",
              "        await google.colab.output.renderOutput(dataTable, element);\n",
              "        const docLink = document.createElement('div');\n",
              "        docLink.innerHTML = docLinkHtml;\n",
              "        element.appendChild(docLink);\n",
              "      }\n",
              "    </script>\n",
              "  </div>\n",
              "\n",
              "\n",
              "<div id=\"df-310f1856-2c81-439a-9330-346fc4d9e0f7\">\n",
              "  <button class=\"colab-df-quickchart\" onclick=\"quickchart('df-310f1856-2c81-439a-9330-346fc4d9e0f7')\"\n",
              "            title=\"Suggest charts.\"\n",
              "            style=\"display:none;\">\n",
              "\n",
              "<svg xmlns=\"http://www.w3.org/2000/svg\" height=\"24px\"viewBox=\"0 0 24 24\"\n",
              "     width=\"24px\">\n",
              "    <g>\n",
              "        <path d=\"M19 3H5c-1.1 0-2 .9-2 2v14c0 1.1.9 2 2 2h14c1.1 0 2-.9 2-2V5c0-1.1-.9-2-2-2zM9 17H7v-7h2v7zm4 0h-2V7h2v10zm4 0h-2v-4h2v4z\"/>\n",
              "    </g>\n",
              "</svg>\n",
              "  </button>\n",
              "\n",
              "<style>\n",
              "  .colab-df-quickchart {\n",
              "      --bg-color: #E8F0FE;\n",
              "      --fill-color: #1967D2;\n",
              "      --hover-bg-color: #E2EBFA;\n",
              "      --hover-fill-color: #174EA6;\n",
              "      --disabled-fill-color: #AAA;\n",
              "      --disabled-bg-color: #DDD;\n",
              "  }\n",
              "\n",
              "  [theme=dark] .colab-df-quickchart {\n",
              "      --bg-color: #3B4455;\n",
              "      --fill-color: #D2E3FC;\n",
              "      --hover-bg-color: #434B5C;\n",
              "      --hover-fill-color: #FFFFFF;\n",
              "      --disabled-bg-color: #3B4455;\n",
              "      --disabled-fill-color: #666;\n",
              "  }\n",
              "\n",
              "  .colab-df-quickchart {\n",
              "    background-color: var(--bg-color);\n",
              "    border: none;\n",
              "    border-radius: 50%;\n",
              "    cursor: pointer;\n",
              "    display: none;\n",
              "    fill: var(--fill-color);\n",
              "    height: 32px;\n",
              "    padding: 0;\n",
              "    width: 32px;\n",
              "  }\n",
              "\n",
              "  .colab-df-quickchart:hover {\n",
              "    background-color: var(--hover-bg-color);\n",
              "    box-shadow: 0 1px 2px rgba(60, 64, 67, 0.3), 0 1px 3px 1px rgba(60, 64, 67, 0.15);\n",
              "    fill: var(--button-hover-fill-color);\n",
              "  }\n",
              "\n",
              "  .colab-df-quickchart-complete:disabled,\n",
              "  .colab-df-quickchart-complete:disabled:hover {\n",
              "    background-color: var(--disabled-bg-color);\n",
              "    fill: var(--disabled-fill-color);\n",
              "    box-shadow: none;\n",
              "  }\n",
              "\n",
              "  .colab-df-spinner {\n",
              "    border: 2px solid var(--fill-color);\n",
              "    border-color: transparent;\n",
              "    border-bottom-color: var(--fill-color);\n",
              "    animation:\n",
              "      spin 1s steps(1) infinite;\n",
              "  }\n",
              "\n",
              "  @keyframes spin {\n",
              "    0% {\n",
              "      border-color: transparent;\n",
              "      border-bottom-color: var(--fill-color);\n",
              "      border-left-color: var(--fill-color);\n",
              "    }\n",
              "    20% {\n",
              "      border-color: transparent;\n",
              "      border-left-color: var(--fill-color);\n",
              "      border-top-color: var(--fill-color);\n",
              "    }\n",
              "    30% {\n",
              "      border-color: transparent;\n",
              "      border-left-color: var(--fill-color);\n",
              "      border-top-color: var(--fill-color);\n",
              "      border-right-color: var(--fill-color);\n",
              "    }\n",
              "    40% {\n",
              "      border-color: transparent;\n",
              "      border-right-color: var(--fill-color);\n",
              "      border-top-color: var(--fill-color);\n",
              "    }\n",
              "    60% {\n",
              "      border-color: transparent;\n",
              "      border-right-color: var(--fill-color);\n",
              "    }\n",
              "    80% {\n",
              "      border-color: transparent;\n",
              "      border-right-color: var(--fill-color);\n",
              "      border-bottom-color: var(--fill-color);\n",
              "    }\n",
              "    90% {\n",
              "      border-color: transparent;\n",
              "      border-bottom-color: var(--fill-color);\n",
              "    }\n",
              "  }\n",
              "</style>\n",
              "\n",
              "  <script>\n",
              "    async function quickchart(key) {\n",
              "      const quickchartButtonEl =\n",
              "        document.querySelector('#' + key + ' button');\n",
              "      quickchartButtonEl.disabled = true;  // To prevent multiple clicks.\n",
              "      quickchartButtonEl.classList.add('colab-df-spinner');\n",
              "      try {\n",
              "        const charts = await google.colab.kernel.invokeFunction(\n",
              "            'suggestCharts', [key], {});\n",
              "      } catch (error) {\n",
              "        console.error('Error during call to suggestCharts:', error);\n",
              "      }\n",
              "      quickchartButtonEl.classList.remove('colab-df-spinner');\n",
              "      quickchartButtonEl.classList.add('colab-df-quickchart-complete');\n",
              "    }\n",
              "    (() => {\n",
              "      let quickchartButtonEl =\n",
              "        document.querySelector('#df-310f1856-2c81-439a-9330-346fc4d9e0f7 button');\n",
              "      quickchartButtonEl.style.display =\n",
              "        google.colab.kernel.accessAllowed ? 'block' : 'none';\n",
              "    })();\n",
              "  </script>\n",
              "</div>\n",
              "    </div>\n",
              "  </div>\n"
            ]
          },
          "metadata": {},
          "execution_count": 42
        }
      ]
    },
    {
      "cell_type": "code",
      "source": [
        "# inspect one of the variables\n",
        "df['shoe size']"
      ],
      "metadata": {
        "colab": {
          "base_uri": "https://localhost:8080/"
        },
        "id": "RNgqv3J2tzih",
        "outputId": "ac5d6c59-6b31-42fb-df3e-4b509a89d79d"
      },
      "execution_count": 43,
      "outputs": [
        {
          "output_type": "execute_result",
          "data": {
            "text/plain": [
              "0     13\n",
              "1     10\n",
              "2      7\n",
              "3      4\n",
              "4      7\n",
              "5     11\n",
              "6     11\n",
              "7     11\n",
              "8     12\n",
              "9      9\n",
              "10     8\n",
              "11     7\n",
              "12     7\n",
              "13     4\n",
              "14     9\n",
              "15     8\n",
              "16    10\n",
              "17     9\n",
              "18     9\n",
              "19     8\n",
              "Name: shoe size, dtype: int64"
            ]
          },
          "metadata": {},
          "execution_count": 43
        }
      ]
    },
    {
      "cell_type": "markdown",
      "source": [
        "## 1.6) Simple Visualizations\n",
        "There is continuous data, like how tall you are.  \n",
        "There is also categorical data, like what colour hair you have."
      ],
      "metadata": {
        "id": "-su5U23CxKor"
      }
    },
    {
      "cell_type": "code",
      "source": [
        "# let's make a histogram of shoe size\n",
        "plt.hist(df['shoe size'])\n",
        "plt.title('Histogram of Shoe Size')"
      ],
      "metadata": {
        "colab": {
          "base_uri": "https://localhost:8080/",
          "height": 469
        },
        "id": "b0pV7MZsruyS",
        "outputId": "093b29c2-bd84-4bf6-dd49-4cf9bb9f4f8a"
      },
      "execution_count": 44,
      "outputs": [
        {
          "output_type": "execute_result",
          "data": {
            "text/plain": [
              "Text(0.5, 1.0, 'Histogram of Shoe Size')"
            ]
          },
          "metadata": {},
          "execution_count": 44
        },
        {
          "output_type": "display_data",
          "data": {
            "text/plain": [
              "<Figure size 640x480 with 1 Axes>"
            ],
            "image/png": "[encoded data removed]"
          },
          "metadata": {}
        }
      ]
    },
    {
      "cell_type": "code",
      "source": [
        "# now let's make a pie chart of gender\n",
        "plt.pie(df['gender'].value_counts())\n",
        "plt.title('Gender Distribution')"
      ],
      "metadata": {
        "colab": {
          "base_uri": "https://localhost:8080/",
          "height": 445
        },
        "id": "-rxmmcdPuFD-",
        "outputId": "069e2f77-2804-4411-ab80-8c553501d325"
      },
      "execution_count": 45,
      "outputs": [
        {
          "output_type": "execute_result",
          "data": {
            "text/plain": [
              "Text(0.5, 1.0, 'Gender Distribution')"
            ]
          },
          "metadata": {},
          "execution_count": 45
        },
        {
          "output_type": "display_data",
          "data": {
            "text/plain": [
              "<Figure size 640x480 with 1 Axes>"
            ],
            "image/png": "[encoded data removed]"
          },
          "metadata": {}
        }
      ]
    },
    {
      "cell_type": "code",
      "source": [
        "# adding labels to our pie chart\n",
        "plt.pie(df['gender'].value_counts(), labels=['Male', 'Female'])\n",
        "plt.title('Gender Distribution')\n",
        "plt.show()"
      ],
      "metadata": {
        "colab": {
          "base_uri": "https://localhost:8080/",
          "height": 428
        },
        "id": "dYD-61rQuE2N",
        "outputId": "e5362427-a4d2-439d-964c-085f65582fc4"
      },
      "execution_count": 46,
      "outputs": [
        {
          "output_type": "display_data",
          "data": {
            "text/plain": [
              "<Figure size 640x480 with 1 Axes>"
            ],
            "image/png": "[encoded data removed]"
          },
          "metadata": {}
        }
      ]
    },
    {
      "cell_type": "markdown",
      "source": [
        "#### EXERCISE #3: Plot\n",
        "Can you make a new plot using another variable in the dataset?"
      ],
      "metadata": {
        "id": "9yGN2xEyx1O6"
      }
    },
    {
      "cell_type": "code",
      "source": [
        "# new plot\n",
        "\n",
        "\n",
        "\n",
        "\n",
        "\n"
      ],
      "metadata": {
        "id": "1pW1LFGixyOE"
      },
      "execution_count": 34,
      "outputs": []
    }
  ]
}