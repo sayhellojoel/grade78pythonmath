{
  "nbformat": 4,
  "nbformat_minor": 0,
  "metadata": {
    "colab": {
      "provenance": []
    },
    "kernelspec": {
      "name": "python3",
      "display_name": "Python 3"
    },
    "language_info": {
      "name": "python"
    }
  },
  "cells": [
    {
      "cell_type": "markdown",
      "source": [
        "# Class 1 Bonus Content\n",
        "For people who want to work ahead, here is some additional stuff to learn."
      ],
      "metadata": {
        "id": "MB2BHf3xnMoE"
      }
    },
    {
      "cell_type": "code",
      "execution_count": null,
      "metadata": {
        "id": "EIBhk9fCkhyY"
      },
      "outputs": [],
      "source": [
        "# in a Jupyter Notebook like this, you can also skip the command \"print\" and just do the calculation\n",
        "1+1"
      ]
    },
    {
      "cell_type": "code",
      "source": [
        "# but you can only display one result per cell unless you use \"print\"\n",
        "# this will only print the last calculation, 3+3=6\n",
        "1+1\n",
        "2+2\n",
        "3+3"
      ],
      "metadata": {
        "id": "Enx4HXpAkom-"
      },
      "execution_count": null,
      "outputs": []
    },
    {
      "cell_type": "code",
      "source": [
        "# but if we use \"print\" for all of them, they all get printed\n",
        "print(1+1)\n",
        "print(2+2)\n",
        "print(3+3)"
      ],
      "metadata": {
        "id": "yVqcY246k61H"
      },
      "execution_count": null,
      "outputs": []
    },
    {
      "cell_type": "code",
      "source": [
        "# with math, you can use spaces or not, you get the same thing\n",
        "print(1+1)\n",
        "print(1 + 1)\n",
        "print(1      + 1)"
      ],
      "metadata": {
        "id": "IfntIUzPlCu0"
      },
      "execution_count": null,
      "outputs": []
    },
    {
      "cell_type": "markdown",
      "source": [
        "Variable names can't be reserved words, such as \"print\", or you will break things"
      ],
      "metadata": {
        "id": "FbYHGst0kqdo"
      }
    },
    {
      "cell_type": "code",
      "source": [
        "# calling a variable \"print\" means we can't use the function \"print\" anymore :(\n",
        "print = 'test'\n",
        "print(print)"
      ],
      "metadata": {
        "id": "NQJV28pjkopI"
      },
      "execution_count": null,
      "outputs": []
    },
    {
      "cell_type": "code",
      "source": [
        "# delete that variable to be able to print again\n",
        "del print\n",
        "print('test') # phew, it works again"
      ],
      "metadata": {
        "id": "zb3LbB8zkorT"
      },
      "execution_count": null,
      "outputs": []
    },
    {
      "cell_type": "code",
      "source": [
        "# indentation matters in Python\n",
        "if 3 == 4:\n",
        "  print('This will not print because 3 is not equal to 4')\n",
        "print('This will always print because it is not indented')"
      ],
      "metadata": {
        "id": "irn95WRCkot_"
      },
      "execution_count": null,
      "outputs": []
    },
    {
      "cell_type": "code",
      "source": [
        "# printing variables inline with f string format\n",
        "current_year = 2023\n",
        "print(f'The year is {current_year}')"
      ],
      "metadata": {
        "colab": {
          "base_uri": "https://localhost:8080/"
        },
        "id": "9tGsqlyyljhX",
        "outputId": "f0142f62-1f79-4928-dde5-d8b86441a862"
      },
      "execution_count": 3,
      "outputs": [
        {
          "output_type": "stream",
          "name": "stdout",
          "text": [
            "The year is 2023\n"
          ]
        }
      ]
    },
    {
      "cell_type": "code",
      "source": [],
      "metadata": {
        "id": "AnaEEksCmAnA"
      },
      "execution_count": null,
      "outputs": []
    },
    {
      "cell_type": "markdown",
      "source": [
        "## Optional Homework\n",
        "hmmm\n"
      ],
      "metadata": {
        "id": "l3WsuwD9nyzq"
      }
    },
    {
      "cell_type": "code",
      "source": [],
      "metadata": {
        "id": "LYKQ5MeOn9x1"
      },
      "execution_count": null,
      "outputs": []
    }
  ]
}